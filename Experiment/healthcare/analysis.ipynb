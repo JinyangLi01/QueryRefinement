{
 "cells": [
  {
   "cell_type": "code",
   "execution_count": 1,
   "outputs": [],
   "source": [
    "%load_ext autoreload\n",
    "%autoreload 2\n",
    "\n",
    "import warnings\n",
    "import os\n",
    "import pandas as pd\n",
    "from sklearn.compose import ColumnTransformer\n",
    "from sklearn.impute import SimpleImputer\n",
    "from sklearn.model_selection import train_test_split\n",
    "from sklearn.pipeline import Pipeline\n",
    "from sklearn.preprocessing import OneHotEncoder, StandardScaler\n",
    "\n"
   ],
   "metadata": {
    "collapsed": false,
    "ExecuteTime": {
     "end_time": "2023-07-08T23:19:04.372191Z",
     "start_time": "2023-07-08T23:19:03.911531Z"
    }
   }
  },
  {
   "cell_type": "code",
   "execution_count": 2,
   "outputs": [
    {
     "data": {
      "text/plain": "887"
     },
     "execution_count": 2,
     "metadata": {},
     "output_type": "execute_result"
    }
   ],
   "source": [
    "\n",
    "data_file = r\"../../InputData/Pipelines/healthcare/incomeK/before_selection_incomeK.csv\"\n",
    "data = pd.read_csv(data_file)\n",
    "len(data)\n"
   ],
   "metadata": {
    "collapsed": false,
    "ExecuteTime": {
     "end_time": "2023-07-08T23:19:04.409632Z",
     "start_time": "2023-07-08T23:19:04.372649Z"
    }
   }
  },
  {
   "cell_type": "code",
   "execution_count": 3,
   "outputs": [
    {
     "name": "stdout",
     "output_type": "stream",
     "text": [
      "                id  num_children      income  complications\n",
      "count   887.000000    887.000000  887.000000     887.000000\n",
      "mean    495.503946      2.390079  162.365276       5.145434\n",
      "std     289.406386      1.676768  110.010853       3.129673\n",
      "min       1.000000      0.000000    8.000000       0.000000\n",
      "25%     243.500000      1.000000   76.000000       2.000000\n",
      "50%     493.000000      2.000000  140.000000       5.000000\n",
      "75%     743.000000      4.000000  218.000000       8.000000\n",
      "max    1000.000000      5.000000  447.000000      10.000000\n"
     ]
    }
   ],
   "source": [
    "print(data.describe())"
   ],
   "metadata": {
    "collapsed": false,
    "ExecuteTime": {
     "end_time": "2023-07-08T23:19:04.446609Z",
     "start_time": "2023-07-08T23:19:04.410308Z"
    }
   }
  },
  {
   "cell_type": "code",
   "execution_count": 4,
   "outputs": [],
   "source": [
    "relax_rate = 1.05\n",
    "contract_rate = 0.95\n",
    "relax_rate_change = [1.1, 1.2, 1.3, 1.4, 1.5, 1.6]\n",
    "contract_rate_change = [0.4, 0.5, 0.6, 0.7, 0.8, 0.9]"
   ],
   "metadata": {
    "collapsed": false,
    "ExecuteTime": {
     "end_time": "2023-07-08T23:19:04.487755Z",
     "start_time": "2023-07-08T23:19:04.445938Z"
    }
   }
  },
  {
   "cell_type": "markdown",
   "source": [
    "# q1"
   ],
   "metadata": {
    "collapsed": false
   }
  },
  {
   "cell_type": "code",
   "execution_count": 4,
   "outputs": [],
   "source": [],
   "metadata": {
    "collapsed": false,
    "ExecuteTime": {
     "end_time": "2023-07-08T23:19:06.959179Z",
     "start_time": "2023-07-08T23:19:06.955018Z"
    }
   }
  },
  {
   "cell_type": "code",
   "execution_count": 5,
   "outputs": [
    {
     "data": {
      "text/plain": "46"
     },
     "execution_count": 5,
     "metadata": {},
     "output_type": "execute_result"
    }
   ],
   "source": [
    "data1 = data[(data['income'] >= 200) & (data['num_children'] >= 3)]\n",
    "data1 = data1[(data1['county'] == \"county2\") | (data1['county'] == \"county3\")]\n",
    "len(data1)"
   ],
   "metadata": {
    "collapsed": false,
    "ExecuteTime": {
     "end_time": "2023-07-08T23:19:07.983812Z",
     "start_time": "2023-07-08T23:19:07.872321Z"
    }
   }
  },
  {
   "cell_type": "code",
   "execution_count": 6,
   "outputs": [],
   "source": [
    "data1.to_csv(\"result_q1.csv\", index=False)"
   ],
   "metadata": {
    "collapsed": false,
    "ExecuteTime": {
     "end_time": "2023-07-08T23:19:11.157945Z",
     "start_time": "2023-07-08T23:19:11.109069Z"
    }
   }
  },
  {
   "cell_type": "markdown",
   "source": [
    "## relax"
   ],
   "metadata": {
    "collapsed": false
   }
  },
  {
   "cell_type": "code",
   "execution_count": 18,
   "outputs": [
    {
     "name": "stdout",
     "output_type": "stream",
     "text": [
      "race\n",
      "race1    16\n",
      "race2    14\n",
      "race3     9\n",
      "dtype: int64\n",
      "9\n",
      "9.450000000000001\n",
      "0.1956521739130435\n"
     ]
    }
   ],
   "source": [
    "data1 = pd.read_csv(\"result_q1.csv\")\n",
    "print(data1.groupby(['race']).size())\n",
    "\n",
    "\n",
    "num = len(data1[data1['race'] == 'race3'])\n",
    "print(num)\n",
    "print(num * relax_rate)\n",
    "print(num/len(data1))"
   ],
   "metadata": {
    "collapsed": false,
    "ExecuteTime": {
     "end_time": "2023-07-08T23:57:26.017333Z",
     "start_time": "2023-07-08T23:57:25.972549Z"
    }
   }
  },
  {
   "cell_type": "code",
   "execution_count": 14,
   "outputs": [
    {
     "name": "stdout",
     "output_type": "stream",
     "text": [
      "9.9\n",
      "10.799999999999999\n",
      "11.700000000000001\n",
      "12.6\n",
      "13.5\n",
      "14.4\n"
     ]
    }
   ],
   "source": [
    "for r in relax_rate_change:\n",
    "    print(num * r)"
   ],
   "metadata": {
    "collapsed": false,
    "ExecuteTime": {
     "end_time": "2023-07-08T23:21:36.497830Z",
     "start_time": "2023-07-08T23:21:36.456988Z"
    }
   }
  },
  {
   "cell_type": "code",
   "execution_count": 16,
   "outputs": [
    {
     "name": "stdout",
     "output_type": "stream",
     "text": [
      "race   age_group\n",
      "race1  group1       2\n",
      "       group2       8\n",
      "       group3       6\n",
      "race2  group1       5\n",
      "       group2       4\n",
      "       group3       5\n",
      "race3  group1       3\n",
      "       group2       2\n",
      "       group3       4\n",
      "dtype: int64\n",
      "2\n",
      "2.1\n"
     ]
    }
   ],
   "source": [
    "print(data1.groupby(['race', 'age_group']).size())\n",
    "\n",
    "\n",
    "num = len(data1[(data1['race'] == 'race1') & (data1[\"age_group\"] == \"group1\")])\n",
    "print(num)\n",
    "print(num * relax_rate)"
   ],
   "metadata": {
    "collapsed": false,
    "ExecuteTime": {
     "end_time": "2023-07-08T23:21:45.870707Z",
     "start_time": "2023-07-08T23:21:45.831797Z"
    }
   }
  },
  {
   "cell_type": "markdown",
   "source": [
    "## contract"
   ],
   "metadata": {
    "collapsed": false
   }
  },
  {
   "cell_type": "code",
   "execution_count": 11,
   "outputs": [
    {
     "name": "stdout",
     "output_type": "stream",
     "text": [
      "14\n",
      "13.299999999999999\n"
     ]
    }
   ],
   "source": [
    "num = len(data1[data1['race'] == 'race2'])\n",
    "print(num)\n",
    "print(num * contract_rate)"
   ],
   "metadata": {
    "collapsed": false
   }
  },
  {
   "cell_type": "code",
   "execution_count": 12,
   "outputs": [
    {
     "name": "stdout",
     "output_type": "stream",
     "text": [
      "5.6000000000000005\n",
      "7.0\n",
      "8.4\n",
      "9.799999999999999\n",
      "11.200000000000001\n",
      "12.6\n"
     ]
    }
   ],
   "source": [
    "for r in contract_rate_change:\n",
    "    print(num * r)"
   ],
   "metadata": {
    "collapsed": false
   }
  },
  {
   "cell_type": "code",
   "execution_count": 13,
   "outputs": [
    {
     "name": "stdout",
     "output_type": "stream",
     "text": [
      "298\n",
      "283.09999999999997\n"
     ]
    }
   ],
   "source": [
    "num = len(data[(data['age_group'] == \"group2\")])\n",
    "print(num)\n",
    "print(num * contract_rate)"
   ],
   "metadata": {
    "collapsed": false
   }
  },
  {
   "cell_type": "code",
   "execution_count": 13,
   "outputs": [],
   "source": [],
   "metadata": {
    "collapsed": false
   }
  },
  {
   "cell_type": "markdown",
   "source": [
    "## refine"
   ],
   "metadata": {
    "collapsed": false
   }
  },
  {
   "cell_type": "code",
   "execution_count": 14,
   "outputs": [
    {
     "name": "stdout",
     "output_type": "stream",
     "text": [
      "14\n",
      "14.700000000000001\n"
     ]
    }
   ],
   "source": [
    "num = len(data1[data1['race'] == 'race2'])\n",
    "print(num)\n",
    "print(num * 1.05)"
   ],
   "metadata": {
    "collapsed": false
   }
  },
  {
   "cell_type": "code",
   "execution_count": 15,
   "outputs": [
    {
     "name": "stdout",
     "output_type": "stream",
     "text": [
      "14.280000000000001\n",
      "14.56\n",
      "14.84\n",
      "15.120000000000001\n",
      "15.400000000000002\n",
      "15.680000000000001\n"
     ]
    }
   ],
   "source": [
    "for s in [1.02, 1.04, 1.06, 1.08, 1.10, 1.12]:\n",
    "    print(num * s)"
   ],
   "metadata": {
    "collapsed": false
   }
  },
  {
   "cell_type": "code",
   "execution_count": 16,
   "outputs": [
    {
     "name": "stdout",
     "output_type": "stream",
     "text": [
      "15\n",
      "14.25\n"
     ]
    }
   ],
   "source": [
    "\n",
    "num = len(data1[(data1[\"age_group\"] == \"group2\")])\n",
    "print(num)\n",
    "print(num * 0.95)\n"
   ],
   "metadata": {
    "collapsed": false
   }
  },
  {
   "cell_type": "code",
   "execution_count": 17,
   "outputs": [
    {
     "name": "stdout",
     "output_type": "stream",
     "text": [
      "13.2\n",
      "13.5\n",
      "13.8\n",
      "14.1\n",
      "14.399999999999999\n",
      "14.7\n"
     ]
    }
   ],
   "source": [
    "s = [0.88, 0.90, 0.92, 0.94, 0.96, 0.98]\n",
    "for r in s:\n",
    "    print(num * r)"
   ],
   "metadata": {
    "collapsed": false
   }
  },
  {
   "cell_type": "code",
   "execution_count": 17,
   "outputs": [],
   "source": [],
   "metadata": {
    "collapsed": false
   }
  },
  {
   "cell_type": "markdown",
   "source": [
    "# q2"
   ],
   "metadata": {
    "collapsed": false
   }
  },
  {
   "cell_type": "code",
   "execution_count": 18,
   "outputs": [
    {
     "data": {
      "text/plain": "887"
     },
     "execution_count": 18,
     "metadata": {},
     "output_type": "execute_result"
    }
   ],
   "source": [
    "\n",
    "data_file = r\"../../InputData/Pipelines/healthcare/incomeK/before_selection_incomeK.csv\"\n",
    "data = pd.read_csv(data_file)\n",
    "len(data)\n"
   ],
   "metadata": {
    "collapsed": false
   }
  },
  {
   "cell_type": "code",
   "execution_count": 19,
   "outputs": [
    {
     "data": {
      "text/plain": "89"
     },
     "execution_count": 19,
     "metadata": {},
     "output_type": "execute_result"
    }
   ],
   "source": [
    "data2 = data[(data['income'] >= 150) & (data['num_children'] <= 4) & (data['complications'] <= 8)]\n",
    "data2 = data2[(data2['county'] == \"county2\") | (data2['county'] == \"county4\")]\n",
    "len(data2)"
   ],
   "metadata": {
    "collapsed": false
   }
  },
  {
   "cell_type": "markdown",
   "source": [
    "## relax"
   ],
   "metadata": {
    "collapsed": false
   }
  },
  {
   "cell_type": "code",
   "execution_count": 20,
   "outputs": [
    {
     "name": "stdout",
     "output_type": "stream",
     "text": [
      "33\n",
      "34.65\n"
     ]
    }
   ],
   "source": [
    "data1 = pd.read_csv(\"result_q2.csv\")\n",
    "num = len(data1[data1['race'] == 'race2'])\n",
    "print(num)\n",
    "print(num * relax_rate)"
   ],
   "metadata": {
    "collapsed": false
   }
  },
  {
   "cell_type": "code",
   "execution_count": 21,
   "outputs": [
    {
     "name": "stdout",
     "output_type": "stream",
     "text": [
      "36.300000000000004\n",
      "39.6\n",
      "42.9\n",
      "46.199999999999996\n",
      "49.5\n",
      "52.800000000000004\n"
     ]
    }
   ],
   "source": [
    "for r in relax_rate_change:\n",
    "    print(num * r)"
   ],
   "metadata": {
    "collapsed": false
   }
  },
  {
   "cell_type": "code",
   "execution_count": 22,
   "outputs": [
    {
     "name": "stdout",
     "output_type": "stream",
     "text": [
      "13\n",
      "13.65\n"
     ]
    }
   ],
   "source": [
    "\n",
    "num = len(data1[(data1['race'] == 'race1') & (data1[\"age_group\"] == \"group1\")])\n",
    "print(num)\n",
    "print(num * relax_rate)"
   ],
   "metadata": {
    "collapsed": false
   }
  },
  {
   "cell_type": "markdown",
   "source": [
    "# contract"
   ],
   "metadata": {
    "collapsed": false
   }
  },
  {
   "cell_type": "code",
   "execution_count": 23,
   "outputs": [
    {
     "name": "stdout",
     "output_type": "stream",
     "text": [
      "33\n",
      "31.349999999999998\n"
     ]
    }
   ],
   "source": [
    "num = len(data1[data1['race'] == 'race2'])\n",
    "print(num)\n",
    "print(num * contract_rate)"
   ],
   "metadata": {
    "collapsed": false
   }
  },
  {
   "cell_type": "code",
   "execution_count": 24,
   "outputs": [
    {
     "name": "stdout",
     "output_type": "stream",
     "text": [
      "13.200000000000001\n",
      "16.5\n",
      "19.8\n",
      "23.099999999999998\n",
      "26.400000000000002\n",
      "29.7\n"
     ]
    }
   ],
   "source": [
    "for r in contract_rate_change:\n",
    "    print(num * r)"
   ],
   "metadata": {
    "collapsed": false
   }
  },
  {
   "cell_type": "code",
   "execution_count": 25,
   "outputs": [
    {
     "name": "stdout",
     "output_type": "stream",
     "text": [
      "32\n",
      "30.4\n"
     ]
    }
   ],
   "source": [
    "num = len(data1[data1['age_group'] == 'group2'])\n",
    "print(num)\n",
    "print(num * contract_rate)"
   ],
   "metadata": {
    "collapsed": false
   }
  },
  {
   "cell_type": "code",
   "execution_count": 25,
   "outputs": [],
   "source": [],
   "metadata": {
    "collapsed": false
   }
  },
  {
   "cell_type": "code",
   "execution_count": 25,
   "outputs": [],
   "source": [],
   "metadata": {
    "collapsed": false
   }
  },
  {
   "cell_type": "markdown",
   "source": [
    "## refine"
   ],
   "metadata": {
    "collapsed": false
   }
  },
  {
   "cell_type": "code",
   "execution_count": 26,
   "outputs": [
    {
     "name": "stdout",
     "output_type": "stream",
     "text": [
      "33\n",
      "34.65\n"
     ]
    }
   ],
   "source": [
    "num = len(data1[data1['race'] == 'race2'])\n",
    "print(num)\n",
    "print(num * 1.05)"
   ],
   "metadata": {
    "collapsed": false
   }
  },
  {
   "cell_type": "code",
   "execution_count": 27,
   "outputs": [
    {
     "name": "stdout",
     "output_type": "stream",
     "text": [
      "33.660000000000004\n",
      "34.32\n",
      "34.980000000000004\n",
      "35.64\n",
      "36.300000000000004\n",
      "36.96\n"
     ]
    }
   ],
   "source": [
    "for s in [1.02, 1.04, 1.06, 1.08, 1.10, 1.12]:\n",
    "    print(num * s)"
   ],
   "metadata": {
    "collapsed": false
   }
  },
  {
   "cell_type": "code",
   "execution_count": 28,
   "outputs": [
    {
     "name": "stdout",
     "output_type": "stream",
     "text": [
      "32\n",
      "30.4\n"
     ]
    }
   ],
   "source": [
    "\n",
    "num = len(data1[(data1[\"age_group\"] == \"group2\")])\n",
    "print(num)\n",
    "print(num * 0.95)\n"
   ],
   "metadata": {
    "collapsed": false
   }
  },
  {
   "cell_type": "code",
   "execution_count": null,
   "outputs": [],
   "source": [],
   "metadata": {
    "collapsed": false,
    "pycharm": {
     "is_executing": true
    }
   }
  },
  {
   "cell_type": "code",
   "execution_count": 30,
   "outputs": [],
   "source": [],
   "metadata": {
    "collapsed": false
   }
  }
 ],
 "metadata": {
  "kernelspec": {
   "display_name": "Python 3",
   "language": "python",
   "name": "python3"
  },
  "language_info": {
   "codemirror_mode": {
    "name": "ipython",
    "version": 2
   },
   "file_extension": ".py",
   "mimetype": "text/x-python",
   "name": "python",
   "nbconvert_exporter": "python",
   "pygments_lexer": "ipython2",
   "version": "2.7.6"
  }
 },
 "nbformat": 4,
 "nbformat_minor": 0
}
