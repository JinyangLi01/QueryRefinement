{
 "cells": [
  {
   "cell_type": "code",
   "execution_count": 3,
   "metadata": {},
   "outputs": [],
   "source": [
    "import csv\n",
    "import numpy as np\n",
    "import pandas as pd\n"
   ]
  },
  {
   "cell_type": "code",
   "execution_count": 4,
   "metadata": {},
   "outputs": [
    {
     "data": {
      "text/plain": "328688"
     },
     "execution_count": 4,
     "metadata": {},
     "output_type": "execute_result"
    }
   ],
   "source": [
    "data = pd.read_csv(r\"answer_sql12.csv\", sep='|')\n",
    "len(data)"
   ]
  },
  {
   "cell_type": "code",
   "execution_count": 23,
   "outputs": [],
   "source": [
    "relax_rate = 1.5\n",
    "contract_rate = 0.7"
   ],
   "metadata": {
    "collapsed": false
   }
  },
  {
   "cell_type": "markdown",
   "metadata": {},
   "source": [
    "# relax"
   ]
  },
  {
   "cell_type": "code",
   "execution_count": 24,
   "metadata": {},
   "outputs": [
    {
     "name": "stdout",
     "output_type": "stream",
     "text": [
      "11757\n",
      "17635.5\n"
     ]
    }
   ],
   "source": [
    "data1 = data[(data['o_orderpriority'] == \"5-LOW\") & (data[\"l_linenumber\"] == 3) ]\n",
    "print(len(data1))\n",
    "print(len(data1)*relax_rate)"
   ]
  },
  {
   "cell_type": "code",
   "execution_count": 25,
   "metadata": {},
   "outputs": [
    {
     "name": "stdout",
     "output_type": "stream",
     "text": [
      "82202\n",
      "123303.0\n"
     ]
    }
   ],
   "source": [
    "data2 = data[(data['l_shipinstruct'] == \"COLLECT COD\")]\n",
    "print(len(data2))\n",
    "print(len(data2)*relax_rate)"
   ]
  },
  {
   "cell_type": "code",
   "execution_count": 26,
   "metadata": {},
   "outputs": [
    {
     "name": "stdout",
     "output_type": "stream",
     "text": [
      "164535\n",
      "246802.5\n"
     ]
    }
   ],
   "source": [
    "data3 = data[data[\"l_returnflag\"] == \"A\"]\n",
    "print(len(data3))\n",
    "print(len(data3)*relax_rate)"
   ]
  },
  {
   "cell_type": "markdown",
   "metadata": {},
   "source": [
    "## contract"
   ]
  },
  {
   "cell_type": "code",
   "execution_count": 27,
   "metadata": {},
   "outputs": [
    {
     "name": "stdout",
     "output_type": "stream",
     "text": [
      "65861\n",
      "46102.7\n"
     ]
    }
   ],
   "source": [
    "data3 = data[(data['o_orderpriority'] == \"1-URGENT\")]\n",
    "print(len(data3))\n",
    "print(len(data3)*contract_rate)"
   ]
  },
  {
   "cell_type": "code",
   "execution_count": 28,
   "metadata": {},
   "outputs": [
    {
     "name": "stdout",
     "output_type": "stream",
     "text": [
      "82008\n",
      "57405.6\n"
     ]
    }
   ],
   "source": [
    "data4 = data[(data['l_linenumber'] == 1)]\n",
    "print(len(data4))\n",
    "print(len(data4)*contract_rate)"
   ]
  },
  {
   "cell_type": "code",
   "execution_count": 29,
   "metadata": {},
   "outputs": [
    {
     "name": "stdout",
     "output_type": "stream",
     "text": [
      "164535\n",
      "115174.49999999999\n"
     ]
    }
   ],
   "source": [
    "data1 = data[(data['l_returnflag'] == \"A\") & (data[\"l_linestatus\"] == \"F\") ]\n",
    "print(len(data1))\n",
    "print(len(data1)*contract_rate)"
   ]
  },
  {
   "cell_type": "markdown",
   "metadata": {},
   "source": [
    "# refine"
   ]
  },
  {
   "cell_type": "code",
   "execution_count": 20,
   "metadata": {},
   "outputs": [
    {
     "name": "stdout",
     "output_type": "stream",
     "text": [
      "11692\n",
      "12861.2\n",
      "10522.800000000001\n"
     ]
    }
   ],
   "source": [
    "data3 = data[(data[\"o_orderpriority\"] == \"3-MEDIUM\") & (data[\"l_linenumber\"] == 3) ]\n",
    "print(len(data3))\n",
    "print(len(data3)*1.1)"
   ]
  },
  {
   "cell_type": "code",
   "execution_count": 21,
   "metadata": {},
   "outputs": [
    {
     "name": "stdout",
     "output_type": "stream",
     "text": [
      "40821\n",
      "44903.100000000006\n",
      "36738.9\n"
     ]
    }
   ],
   "source": [
    "data4 = data[(data['l_returnflag'] == \"R\") & (data[\"l_shipinstruct\"] == \"TAKE BACK RETURN\") ]\n",
    "print(len(data4))\n",
    "print(len(data4)*0.9)"
   ]
  },
  {
   "cell_type": "code",
   "execution_count": 22,
   "metadata": {},
   "outputs": [
    {
     "data": {
      "text/plain": "array(['R', 'A'], dtype=object)"
     },
     "execution_count": 22,
     "metadata": {},
     "output_type": "execute_result"
    }
   ],
   "source": [
    "data['l_returnflag'].unique()"
   ]
  },
  {
   "cell_type": "code",
   "execution_count": 21,
   "outputs": [],
   "source": [],
   "metadata": {
    "collapsed": false
   }
  }
 ],
 "metadata": {
  "kernelspec": {
   "display_name": "Python 3 (ipykernel)",
   "language": "python",
   "name": "python3"
  },
  "language_info": {
   "codemirror_mode": {
    "name": "ipython",
    "version": 2
   },
   "file_extension": ".py",
   "mimetype": "text/x-python",
   "name": "python",
   "nbconvert_exporter": "python",
   "pygments_lexer": "ipython2",
   "version": "2.7.6"
  }
 },
 "nbformat": 4,
 "nbformat_minor": 1
}
