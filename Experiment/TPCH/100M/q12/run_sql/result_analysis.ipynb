{
 "cells": [
  {
   "cell_type": "code",
   "execution_count": 5,
   "metadata": {
    "collapsed": true
   },
   "outputs": [],
   "source": [
    "import csv\n",
    "import numpy as np\n",
    "import pandas as pd\n"
   ]
  },
  {
   "cell_type": "code",
   "execution_count": 6,
   "outputs": [
    {
     "data": {
      "text/plain": "3292"
     },
     "execution_count": 6,
     "metadata": {},
     "output_type": "execute_result"
    }
   ],
   "source": [
    "data = pd.read_csv(r\"answer_sql12.csv\", sep='|')\n",
    "len(data)"
   ],
   "metadata": {
    "collapsed": false
   }
  },
  {
   "cell_type": "code",
   "execution_count": 7,
   "outputs": [],
   "source": [
    "len(data)\n",
    "relax_rate = 1.3\n",
    "contract_rate = 0.8"
   ],
   "metadata": {
    "collapsed": false
   }
  },
  {
   "cell_type": "markdown",
   "source": [
    "# relax"
   ],
   "metadata": {
    "collapsed": false
   }
  },
  {
   "cell_type": "code",
   "execution_count": 8,
   "outputs": [
    {
     "name": "stdout",
     "output_type": "stream",
     "text": [
      "107\n",
      "139.1\n"
     ]
    }
   ],
   "source": [
    "data1 = data[(data['o_orderpriority'] == \"5-LOW\") & (data[\"l_linenumber\"] == 3) ]\n",
    "print(len(data1))\n",
    "print(len(data1) * relax_rate)"
   ],
   "metadata": {
    "collapsed": false
   }
  },
  {
   "cell_type": "code",
   "execution_count": 9,
   "outputs": [
    {
     "name": "stdout",
     "output_type": "stream",
     "text": [
      "843\n",
      "1095.9\n"
     ]
    }
   ],
   "source": [
    "data2 = data[(data['l_shipinstruct'] == \"COLLECT COD\")]\n",
    "print(len(data2))\n",
    "print(len(data2) * relax_rate)"
   ],
   "metadata": {
    "collapsed": false
   }
  },
  {
   "cell_type": "code",
   "execution_count": 10,
   "outputs": [
    {
     "name": "stdout",
     "output_type": "stream",
     "text": [
      "708\n",
      "920.4\n"
     ]
    }
   ],
   "source": [
    "data3 = data[data[\"l_returnflag\"] == \"A\"]\n",
    "print(len(data3))\n",
    "print(len(data3) * relax_rate)"
   ],
   "metadata": {
    "collapsed": false
   }
  },
  {
   "cell_type": "markdown",
   "source": [
    "## contract"
   ],
   "metadata": {
    "collapsed": false
   }
  },
  {
   "cell_type": "code",
   "execution_count": 19,
   "outputs": [
    {
     "name": "stdout",
     "output_type": "stream",
     "text": [
      "647\n",
      "517.6\n"
     ]
    }
   ],
   "source": [
    "data3 = data[(data['o_orderpriority'] == \"1-URGENT\")]\n",
    "print(len(data3))\n",
    "print(len(data3) * contract_rate)"
   ],
   "metadata": {
    "collapsed": false
   }
  },
  {
   "cell_type": "code",
   "execution_count": 20,
   "outputs": [
    {
     "name": "stdout",
     "output_type": "stream",
     "text": [
      "4\n",
      "3.2\n"
     ]
    }
   ],
   "source": [
    "data4 = data[(data['l_suppkey'] == 1)]\n",
    "print(len(data4))\n",
    "print(len(data4) * contract_rate)"
   ],
   "metadata": {
    "collapsed": false
   }
  },
  {
   "cell_type": "code",
   "execution_count": 21,
   "outputs": [
    {
     "name": "stdout",
     "output_type": "stream",
     "text": [
      "610\n",
      "488.0\n"
     ]
    }
   ],
   "source": [
    "data1 = data[(data['l_returnflag'] == \"A\") & (data[\"o_orderstatus\"] == \"F\") ]\n",
    "print(len(data1))\n",
    "print(len(data1) * contract_rate)"
   ],
   "metadata": {
    "collapsed": false
   }
  },
  {
   "cell_type": "code",
   "execution_count": 16,
   "outputs": [],
   "source": [],
   "metadata": {
    "collapsed": false
   }
  },
  {
   "cell_type": "code",
   "execution_count": 9,
   "outputs": [],
   "source": [],
   "metadata": {
    "collapsed": false
   }
  },
  {
   "cell_type": "markdown",
   "source": [
    "# refine"
   ],
   "metadata": {
    "collapsed": false
   }
  },
  {
   "cell_type": "code",
   "execution_count": 22,
   "outputs": [
    {
     "name": "stdout",
     "output_type": "stream",
     "text": [
      "131\n",
      "137.55\n"
     ]
    }
   ],
   "source": [
    "data3 = data[(data[\"o_orderpriority\"] == \"3-MEDIUM\") & (data[\"l_linenumber\"] == 3) ]\n",
    "print(len(data3))\n",
    "print(len(data3) * 1.05)"
   ],
   "metadata": {
    "collapsed": false
   }
  },
  {
   "cell_type": "code",
   "execution_count": 22,
   "outputs": [],
   "source": [],
   "metadata": {
    "collapsed": false
   }
  },
  {
   "cell_type": "code",
   "execution_count": 24,
   "outputs": [
    {
     "name": "stdout",
     "output_type": "stream",
     "text": [
      "191\n",
      "181.45\n"
     ]
    }
   ],
   "source": [
    "data4 = data[(data['l_returnflag'] == \"R\") & (data[\"l_shipinstruct\"] == \"TAKE BACK RETURN\")]\n",
    "print(len(data4))\n",
    "print(len(data4) * 0.95)"
   ],
   "metadata": {
    "collapsed": false
   }
  },
  {
   "cell_type": "code",
   "execution_count": null,
   "outputs": [],
   "source": [],
   "metadata": {
    "collapsed": false
   }
  }
 ],
 "metadata": {
  "kernelspec": {
   "display_name": "Python 3",
   "language": "python",
   "name": "python3"
  },
  "language_info": {
   "codemirror_mode": {
    "name": "ipython",
    "version": 2
   },
   "file_extension": ".py",
   "mimetype": "text/x-python",
   "name": "python",
   "nbconvert_exporter": "python",
   "pygments_lexer": "ipython2",
   "version": "2.7.6"
  }
 },
 "nbformat": 4,
 "nbformat_minor": 0
}
