{
 "cells": [
  {
   "cell_type": "code",
   "execution_count": 1,
   "metadata": {
    "collapsed": true
   },
   "outputs": [],
   "source": [
    "import csv\n",
    "import numpy as np\n",
    "import pandas as pd\n"
   ]
  },
  {
   "cell_type": "code",
   "execution_count": 2,
   "outputs": [
    {
     "data": {
      "text/plain": "   c_custkey              c_name                c_address  c_nationkey  \\\n0         13  Customer#000000013  nsXQu0oVjD7PM659uC3SRSp            3   \n1         13  Customer#000000013  nsXQu0oVjD7PM659uC3SRSp            3   \n2         13  Customer#000000013  nsXQu0oVjD7PM659uC3SRSp            3   \n3         13  Customer#000000013  nsXQu0oVjD7PM659uC3SRSp            3   \n\n           c_phone  c_acctbal c_mktsegment  \\\n0  13-761-547-5974    3857.34     BUILDING   \n1  13-761-547-5974    3857.34     BUILDING   \n2  13-761-547-5974    3857.34     BUILDING   \n3  13-761-547-5974    3857.34     BUILDING   \n\n                                           c_comment  o_orderkey  o_custkey  \\\n0  ounts sleep carefully after the close frays. c...       78080         13   \n1  ounts sleep carefully after the close frays. c...       78080         13   \n2  ounts sleep carefully after the close frays. c...       78080         13   \n3  ounts sleep carefully after the close frays. c...       78080         13   \n\n   ... l_discount  l_tax l_returnflag l_linestatus  l_shipdate  l_commitdate  \\\n0  ...       0.01   0.00            A            F  1995-05-18    1995-04-11   \n1  ...       0.09   0.03            R            F  1995-06-04    1995-05-04   \n2  ...       0.09   0.03            R            F  1995-05-05    1995-04-14   \n3  ...       0.09   0.04            R            F  1995-04-25    1995-05-02   \n\n  l_receiptdate     l_shipinstruct  l_shipmode  \\\n0    1995-05-29        COLLECT COD         FOB   \n1    1995-06-07               NONE         FOB   \n2    1995-06-01   TAKE BACK RETURN        MAIL   \n3    1995-05-10  DELIVER IN PERSON     REG AIR   \n\n                                     l_comment  \n0           hs. slyly ruthless requests doze s  \n1  s, ironic foxes. express, even accounts hag  \n2           blithely final packages ought to u  \n3                                 oxes. final   \n\n[4 rows x 33 columns]",
      "text/html": "<div>\n<style scoped>\n    .dataframe tbody tr th:only-of-type {\n        vertical-align: middle;\n    }\n\n    .dataframe tbody tr th {\n        vertical-align: top;\n    }\n\n    .dataframe thead th {\n        text-align: right;\n    }\n</style>\n<table border=\"1\" class=\"dataframe\">\n  <thead>\n    <tr style=\"text-align: right;\">\n      <th></th>\n      <th>c_custkey</th>\n      <th>c_name</th>\n      <th>c_address</th>\n      <th>c_nationkey</th>\n      <th>c_phone</th>\n      <th>c_acctbal</th>\n      <th>c_mktsegment</th>\n      <th>c_comment</th>\n      <th>o_orderkey</th>\n      <th>o_custkey</th>\n      <th>...</th>\n      <th>l_discount</th>\n      <th>l_tax</th>\n      <th>l_returnflag</th>\n      <th>l_linestatus</th>\n      <th>l_shipdate</th>\n      <th>l_commitdate</th>\n      <th>l_receiptdate</th>\n      <th>l_shipinstruct</th>\n      <th>l_shipmode</th>\n      <th>l_comment</th>\n    </tr>\n  </thead>\n  <tbody>\n    <tr>\n      <th>0</th>\n      <td>13</td>\n      <td>Customer#000000013</td>\n      <td>nsXQu0oVjD7PM659uC3SRSp</td>\n      <td>3</td>\n      <td>13-761-547-5974</td>\n      <td>3857.34</td>\n      <td>BUILDING</td>\n      <td>ounts sleep carefully after the close frays. c...</td>\n      <td>78080</td>\n      <td>13</td>\n      <td>...</td>\n      <td>0.01</td>\n      <td>0.00</td>\n      <td>A</td>\n      <td>F</td>\n      <td>1995-05-18</td>\n      <td>1995-04-11</td>\n      <td>1995-05-29</td>\n      <td>COLLECT COD</td>\n      <td>FOB</td>\n      <td>hs. slyly ruthless requests doze s</td>\n    </tr>\n    <tr>\n      <th>1</th>\n      <td>13</td>\n      <td>Customer#000000013</td>\n      <td>nsXQu0oVjD7PM659uC3SRSp</td>\n      <td>3</td>\n      <td>13-761-547-5974</td>\n      <td>3857.34</td>\n      <td>BUILDING</td>\n      <td>ounts sleep carefully after the close frays. c...</td>\n      <td>78080</td>\n      <td>13</td>\n      <td>...</td>\n      <td>0.09</td>\n      <td>0.03</td>\n      <td>R</td>\n      <td>F</td>\n      <td>1995-06-04</td>\n      <td>1995-05-04</td>\n      <td>1995-06-07</td>\n      <td>NONE</td>\n      <td>FOB</td>\n      <td>s, ironic foxes. express, even accounts hag</td>\n    </tr>\n    <tr>\n      <th>2</th>\n      <td>13</td>\n      <td>Customer#000000013</td>\n      <td>nsXQu0oVjD7PM659uC3SRSp</td>\n      <td>3</td>\n      <td>13-761-547-5974</td>\n      <td>3857.34</td>\n      <td>BUILDING</td>\n      <td>ounts sleep carefully after the close frays. c...</td>\n      <td>78080</td>\n      <td>13</td>\n      <td>...</td>\n      <td>0.09</td>\n      <td>0.03</td>\n      <td>R</td>\n      <td>F</td>\n      <td>1995-05-05</td>\n      <td>1995-04-14</td>\n      <td>1995-06-01</td>\n      <td>TAKE BACK RETURN</td>\n      <td>MAIL</td>\n      <td>blithely final packages ought to u</td>\n    </tr>\n    <tr>\n      <th>3</th>\n      <td>13</td>\n      <td>Customer#000000013</td>\n      <td>nsXQu0oVjD7PM659uC3SRSp</td>\n      <td>3</td>\n      <td>13-761-547-5974</td>\n      <td>3857.34</td>\n      <td>BUILDING</td>\n      <td>ounts sleep carefully after the close frays. c...</td>\n      <td>78080</td>\n      <td>13</td>\n      <td>...</td>\n      <td>0.09</td>\n      <td>0.04</td>\n      <td>R</td>\n      <td>F</td>\n      <td>1995-04-25</td>\n      <td>1995-05-02</td>\n      <td>1995-05-10</td>\n      <td>DELIVER IN PERSON</td>\n      <td>REG AIR</td>\n      <td>oxes. final</td>\n    </tr>\n  </tbody>\n</table>\n<p>4 rows × 33 columns</p>\n</div>"
     },
     "execution_count": 2,
     "metadata": {},
     "output_type": "execute_result"
    }
   ],
   "source": [
    "data = pd.read_csv(r\"answer_sql3.csv\", sep='|')\n",
    "data[:4]"
   ],
   "metadata": {
    "collapsed": false
   }
  },
  {
   "cell_type": "code",
   "execution_count": 2,
   "outputs": [],
   "source": [],
   "metadata": {
    "collapsed": false
   }
  },
  {
   "cell_type": "code",
   "execution_count": 2,
   "outputs": [],
   "source": [],
   "metadata": {
    "collapsed": false
   }
  },
  {
   "cell_type": "code",
   "execution_count": 2,
   "outputs": [],
   "source": [],
   "metadata": {
    "collapsed": false
   }
  },
  {
   "cell_type": "code",
   "execution_count": 2,
   "outputs": [],
   "source": [],
   "metadata": {
    "collapsed": false
   }
  },
  {
   "cell_type": "markdown",
   "source": [
    "## relax"
   ],
   "metadata": {
    "collapsed": false
   }
  },
  {
   "cell_type": "code",
   "execution_count": 4,
   "outputs": [
    {
     "name": "stdout",
     "output_type": "stream",
     "text": [
      "122\n"
     ]
    }
   ],
   "source": [
    "data2 = data[(data['c_nationkey'] == 23)]\n",
    "print(len(data2))"
   ],
   "metadata": {
    "collapsed": false
   }
  },
  {
   "cell_type": "code",
   "execution_count": 5,
   "outputs": [
    {
     "name": "stdout",
     "output_type": "stream",
     "text": [
      "501\n"
     ]
    }
   ],
   "source": [
    "data3 = data[(data['l_shipmode'] == \"MAIL\")]\n",
    "print(len(data3))"
   ],
   "metadata": {
    "collapsed": false
   }
  },
  {
   "cell_type": "markdown",
   "source": [
    "## contract"
   ],
   "metadata": {
    "collapsed": false
   }
  },
  {
   "cell_type": "code",
   "execution_count": 7,
   "outputs": [
    {
     "name": "stdout",
     "output_type": "stream",
     "text": [
      "102\n"
     ]
    }
   ],
   "source": [
    "data2 = data[(data['c_nationkey'] == 2)]\n",
    "print(len(data2))"
   ],
   "metadata": {
    "collapsed": false
   }
  },
  {
   "cell_type": "code",
   "execution_count": 10,
   "outputs": [
    {
     "name": "stdout",
     "output_type": "stream",
     "text": [
      "386\n"
     ]
    }
   ],
   "source": [
    "data1 = data[(data['o_orderstatus'] == \"P\") & (data['l_returnflag'] == \"N\")]\n",
    "print(len(data1))"
   ],
   "metadata": {
    "collapsed": false
   }
  },
  {
   "cell_type": "code",
   "execution_count": null,
   "outputs": [],
   "source": [],
   "metadata": {
    "collapsed": false
   }
  },
  {
   "cell_type": "markdown",
   "source": [
    "## refinement"
   ],
   "metadata": {
    "collapsed": false
   }
  },
  {
   "cell_type": "code",
   "execution_count": 11,
   "outputs": [
    {
     "name": "stdout",
     "output_type": "stream",
     "text": [
      "251\n"
     ]
    }
   ],
   "source": [
    "data1 = data[(data['o_orderpriority'] == \"1-URGENT\") & (data['l_returnflag'] == \"A\")]\n",
    "print(len(data1))"
   ],
   "metadata": {
    "collapsed": false
   }
  },
  {
   "cell_type": "code",
   "execution_count": 12,
   "outputs": [
    {
     "name": "stdout",
     "output_type": "stream",
     "text": [
      "445\n"
     ]
    }
   ],
   "source": [
    "data3 = data[(data['l_shipmode'] == \"TRUCK\")]\n",
    "print(len(data3))"
   ],
   "metadata": {
    "collapsed": false
   }
  },
  {
   "cell_type": "code",
   "execution_count": null,
   "outputs": [],
   "source": [],
   "metadata": {
    "collapsed": false
   }
  }
 ],
 "metadata": {
  "kernelspec": {
   "display_name": "Python 3",
   "language": "python",
   "name": "python3"
  },
  "language_info": {
   "codemirror_mode": {
    "name": "ipython",
    "version": 2
   },
   "file_extension": ".py",
   "mimetype": "text/x-python",
   "name": "python",
   "nbconvert_exporter": "python",
   "pygments_lexer": "ipython2",
   "version": "2.7.6"
  }
 },
 "nbformat": 4,
 "nbformat_minor": 0
}
