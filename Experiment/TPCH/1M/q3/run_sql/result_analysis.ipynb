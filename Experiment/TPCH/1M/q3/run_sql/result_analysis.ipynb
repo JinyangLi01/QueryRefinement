{
 "cells": [
  {
   "cell_type": "code",
   "execution_count": 1,
   "metadata": {
    "collapsed": true
   },
   "outputs": [],
   "source": [
    "import csv\n",
    "import numpy as np\n",
    "import pandas as pd\n"
   ]
  },
  {
   "cell_type": "code",
   "execution_count": 3,
   "outputs": [
    {
     "data": {
      "text/plain": "   c_custkey              c_name                           c_address  \\\n0         10  Customer#000000010  6LrEaV6KR6PLVcgl2ArL Q3rqzLzcT1 v2   \n1         10  Customer#000000010  6LrEaV6KR6PLVcgl2ArL Q3rqzLzcT1 v2   \n2         10  Customer#000000010  6LrEaV6KR6PLVcgl2ArL Q3rqzLzcT1 v2   \n3         35  Customer#000000035                       TEjWGE4nBzJL2   \n\n   c_nationkey          c_phone  c_acctbal c_mktsegment  \\\n0            5  15-741-346-9870    2753.54    HOUSEHOLD   \n1            5  15-741-346-9870    2753.54    HOUSEHOLD   \n2            5  15-741-346-9870    2753.54    HOUSEHOLD   \n3           17  27-566-888-7431    1228.24    HOUSEHOLD   \n\n                                           c_comment  o_orderkey  o_custkey  \\\n0                    es regular deposits haggle. fur        3911         10   \n1                    es regular deposits haggle. fur        3911         10   \n2                    es regular deposits haggle. fur        3911         10   \n3  requests. special, express requests nag slyly ...        4006         35   \n\n   ... l_discount  l_tax l_returnflag l_linestatus  l_shipdate  l_commitdate  \\\n0  ...       0.07   0.06            N            O  1995-06-22    1995-05-30   \n1  ...       0.08   0.05            R            F  1995-04-28    1995-05-03   \n2  ...       0.10   0.05            R            F  1995-04-04    1995-04-16   \n3  ...       0.05   0.08            A            F  1995-04-29    1995-02-21   \n\n  l_receiptdate    l_shipinstruct  l_shipmode  \\\n0    1995-06-28       COLLECT COD         FOB   \n1    1995-05-22              NONE        RAIL   \n2    1995-04-10       COLLECT COD         FOB   \n3    1995-05-20  TAKE BACK RETURN        RAIL   \n\n                             l_comment  \n0  ss theodolites are blithely along t  \n1                e blithely brave depo  \n2             uctions. blithely regula  \n3              ress foxes cajole quick  \n\n[4 rows x 33 columns]",
      "text/html": "<div>\n<style scoped>\n    .dataframe tbody tr th:only-of-type {\n        vertical-align: middle;\n    }\n\n    .dataframe tbody tr th {\n        vertical-align: top;\n    }\n\n    .dataframe thead th {\n        text-align: right;\n    }\n</style>\n<table border=\"1\" class=\"dataframe\">\n  <thead>\n    <tr style=\"text-align: right;\">\n      <th></th>\n      <th>c_custkey</th>\n      <th>c_name</th>\n      <th>c_address</th>\n      <th>c_nationkey</th>\n      <th>c_phone</th>\n      <th>c_acctbal</th>\n      <th>c_mktsegment</th>\n      <th>c_comment</th>\n      <th>o_orderkey</th>\n      <th>o_custkey</th>\n      <th>...</th>\n      <th>l_discount</th>\n      <th>l_tax</th>\n      <th>l_returnflag</th>\n      <th>l_linestatus</th>\n      <th>l_shipdate</th>\n      <th>l_commitdate</th>\n      <th>l_receiptdate</th>\n      <th>l_shipinstruct</th>\n      <th>l_shipmode</th>\n      <th>l_comment</th>\n    </tr>\n  </thead>\n  <tbody>\n    <tr>\n      <th>0</th>\n      <td>10</td>\n      <td>Customer#000000010</td>\n      <td>6LrEaV6KR6PLVcgl2ArL Q3rqzLzcT1 v2</td>\n      <td>5</td>\n      <td>15-741-346-9870</td>\n      <td>2753.54</td>\n      <td>HOUSEHOLD</td>\n      <td>es regular deposits haggle. fur</td>\n      <td>3911</td>\n      <td>10</td>\n      <td>...</td>\n      <td>0.07</td>\n      <td>0.06</td>\n      <td>N</td>\n      <td>O</td>\n      <td>1995-06-22</td>\n      <td>1995-05-30</td>\n      <td>1995-06-28</td>\n      <td>COLLECT COD</td>\n      <td>FOB</td>\n      <td>ss theodolites are blithely along t</td>\n    </tr>\n    <tr>\n      <th>1</th>\n      <td>10</td>\n      <td>Customer#000000010</td>\n      <td>6LrEaV6KR6PLVcgl2ArL Q3rqzLzcT1 v2</td>\n      <td>5</td>\n      <td>15-741-346-9870</td>\n      <td>2753.54</td>\n      <td>HOUSEHOLD</td>\n      <td>es regular deposits haggle. fur</td>\n      <td>3911</td>\n      <td>10</td>\n      <td>...</td>\n      <td>0.08</td>\n      <td>0.05</td>\n      <td>R</td>\n      <td>F</td>\n      <td>1995-04-28</td>\n      <td>1995-05-03</td>\n      <td>1995-05-22</td>\n      <td>NONE</td>\n      <td>RAIL</td>\n      <td>e blithely brave depo</td>\n    </tr>\n    <tr>\n      <th>2</th>\n      <td>10</td>\n      <td>Customer#000000010</td>\n      <td>6LrEaV6KR6PLVcgl2ArL Q3rqzLzcT1 v2</td>\n      <td>5</td>\n      <td>15-741-346-9870</td>\n      <td>2753.54</td>\n      <td>HOUSEHOLD</td>\n      <td>es regular deposits haggle. fur</td>\n      <td>3911</td>\n      <td>10</td>\n      <td>...</td>\n      <td>0.10</td>\n      <td>0.05</td>\n      <td>R</td>\n      <td>F</td>\n      <td>1995-04-04</td>\n      <td>1995-04-16</td>\n      <td>1995-04-10</td>\n      <td>COLLECT COD</td>\n      <td>FOB</td>\n      <td>uctions. blithely regula</td>\n    </tr>\n    <tr>\n      <th>3</th>\n      <td>35</td>\n      <td>Customer#000000035</td>\n      <td>TEjWGE4nBzJL2</td>\n      <td>17</td>\n      <td>27-566-888-7431</td>\n      <td>1228.24</td>\n      <td>HOUSEHOLD</td>\n      <td>requests. special, express requests nag slyly ...</td>\n      <td>4006</td>\n      <td>35</td>\n      <td>...</td>\n      <td>0.05</td>\n      <td>0.08</td>\n      <td>A</td>\n      <td>F</td>\n      <td>1995-04-29</td>\n      <td>1995-02-21</td>\n      <td>1995-05-20</td>\n      <td>TAKE BACK RETURN</td>\n      <td>RAIL</td>\n      <td>ress foxes cajole quick</td>\n    </tr>\n  </tbody>\n</table>\n<p>4 rows × 33 columns</p>\n</div>"
     },
     "execution_count": 3,
     "metadata": {},
     "output_type": "execute_result"
    }
   ],
   "source": [
    "data = pd.read_csv(r\"answer_sql3.csv\", sep='|')\n",
    "data[:4]"
   ],
   "metadata": {
    "collapsed": false
   }
  },
  {
   "cell_type": "code",
   "execution_count": 4,
   "outputs": [
    {
     "name": "stdout",
     "output_type": "stream",
     "text": [
      "6\n"
     ]
    }
   ],
   "source": [
    "data1 = data[(data['o_orderpriority'] == \"1-URGENT\") & (data['l_returnflag'] == \"A\")]\n",
    "print(len(data1))"
   ],
   "metadata": {
    "collapsed": false
   }
  },
  {
   "cell_type": "code",
   "execution_count": 5,
   "outputs": [
    {
     "name": "stdout",
     "output_type": "stream",
     "text": [
      "6\n"
     ]
    }
   ],
   "source": [
    "data2 = data[(data['o_orderkey'] == 5444)]\n",
    "print(len(data2))"
   ],
   "metadata": {
    "collapsed": false
   }
  },
  {
   "cell_type": "code",
   "execution_count": 6,
   "outputs": [
    {
     "name": "stdout",
     "output_type": "stream",
     "text": [
      "7\n"
     ]
    }
   ],
   "source": [
    "data3 = data[(data['l_shipmode'] == \"TRUCK\")]\n",
    "print(len(data3))"
   ],
   "metadata": {
    "collapsed": false
   }
  },
  {
   "cell_type": "code",
   "execution_count": null,
   "outputs": [],
   "source": [],
   "metadata": {
    "collapsed": false
   }
  }
 ],
 "metadata": {
  "kernelspec": {
   "display_name": "Python 3",
   "language": "python",
   "name": "python3"
  },
  "language_info": {
   "codemirror_mode": {
    "name": "ipython",
    "version": 2
   },
   "file_extension": ".py",
   "mimetype": "text/x-python",
   "name": "python",
   "nbconvert_exporter": "python",
   "pygments_lexer": "ipython2",
   "version": "2.7.6"
  }
 },
 "nbformat": 4,
 "nbformat_minor": 0
}
