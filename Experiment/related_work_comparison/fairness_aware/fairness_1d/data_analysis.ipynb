{
 "cells": [
  {
   "cell_type": "code",
   "execution_count": 115,
   "metadata": {
    "collapsed": true
   },
   "outputs": [],
   "source": [
    "import numpy as np\n",
    "import pandas as pd\n",
    "import matplotlib.pyplot as plt\n"
   ]
  },
  {
   "cell_type": "code",
   "execution_count": 116,
   "outputs": [
    {
     "data": {
      "text/plain": "149481"
     },
     "execution_count": 116,
     "metadata": {},
     "output_type": "execute_result"
    }
   ],
   "source": [
    "# Load the data\n",
    "data = pd.read_csv('../data/texas_tribune.tbl', sep=' ')\n",
    "len(data)"
   ],
   "metadata": {
    "collapsed": false
   }
  },
  {
   "cell_type": "markdown",
   "source": [],
   "metadata": {
    "collapsed": false
   }
  },
  {
   "cell_type": "code",
   "execution_count": 117,
   "outputs": [],
   "source": [
    "# data.drop_duplicates(subset=None, keep='first', inplace=True, ignore_index=False)\n",
    "# print(len(data))\n"
   ],
   "metadata": {
    "collapsed": false
   }
  },
  {
   "cell_type": "code",
   "execution_count": 118,
   "outputs": [
    {
     "name": "stdout",
     "output_type": "stream",
     "text": [
      "64153 85328\n"
     ]
    }
   ],
   "source": [
    "blue = data[data['blue'] == 1]\n",
    "red = data[data['blue'] == 0]\n",
    "print(len(blue), len(red))"
   ],
   "metadata": {
    "collapsed": false
   }
  },
  {
   "cell_type": "code",
   "execution_count": 159,
   "outputs": [],
   "source": [
    "\n",
    "def disparity(data, lb, ub):\n",
    "    blue = data[data['blue'] == 1]\n",
    "    red = data[data['blue'] == 0]\n",
    "    red1 = red[(data['x'] >= lb) & (data['x'] <= ub)]\n",
    "    blue1 = blue[(data['x'] >= lb) & (data['x'] <= ub)]\n",
    "    a = len(red1)\n",
    "    b = len(blue1)\n",
    "    print(a, b, a+b, a-b)\n"
   ],
   "metadata": {
    "collapsed": false
   }
  },
  {
   "cell_type": "code",
   "execution_count": 160,
   "outputs": [
    {
     "name": "stdout",
     "output_type": "stream",
     "text": [
      "6565 2653 9218 3912\n"
     ]
    },
    {
     "name": "stderr",
     "output_type": "stream",
     "text": [
      "/var/folders/sy/m1107g5j24x3w6mcyb9njvyw0000gn/T/ipykernel_51904/1633426843.py:4: UserWarning: Boolean Series key will be reindexed to match DataFrame index.\n",
      "  red1 = red[(data['x'] >= lb) & (data['x'] <= ub)]\n",
      "/var/folders/sy/m1107g5j24x3w6mcyb9njvyw0000gn/T/ipykernel_51904/1633426843.py:5: UserWarning: Boolean Series key will be reindexed to match DataFrame index.\n",
      "  blue1 = blue[(data['x'] >= lb) & (data['x'] <= ub)]\n"
     ]
    }
   ],
   "source": [
    "lb, ub = 5000, 25000\n",
    "disparity(data, lb, ub)"
   ],
   "metadata": {
    "collapsed": false
   }
  },
  {
   "cell_type": "code",
   "execution_count": 161,
   "outputs": [],
   "source": [
    "sorted = data.sort_values(by='x')\n",
    "# sorted.to_csv('../data/sorted.csv', index=False)\n"
   ],
   "metadata": {
    "collapsed": false
   }
  },
  {
   "cell_type": "code",
   "execution_count": 162,
   "outputs": [
    {
     "name": "stdout",
     "output_type": "stream",
     "text": [
      "        blue        x\n",
      "48980      0  4883.16\n",
      "137465     0  5040.00\n",
      "        blue         x\n",
      "142875     1  25000.08\n"
     ]
    }
   ],
   "source": [
    "print(sorted[22:24])\n",
    "print(sorted[9242:9243])"
   ],
   "metadata": {
    "collapsed": false
   }
  },
  {
   "cell_type": "code",
   "execution_count": 162,
   "outputs": [],
   "source": [
    "\n"
   ],
   "metadata": {
    "collapsed": false
   }
  },
  {
   "cell_type": "code",
   "execution_count": 162,
   "outputs": [],
   "source": [],
   "metadata": {
    "collapsed": false
   }
  },
  {
   "cell_type": "code",
   "execution_count": 163,
   "outputs": [
    {
     "name": "stdout",
     "output_type": "stream",
     "text": [
      "1506 981 2487 525\n"
     ]
    },
    {
     "name": "stderr",
     "output_type": "stream",
     "text": [
      "/var/folders/sy/m1107g5j24x3w6mcyb9njvyw0000gn/T/ipykernel_51904/1633426843.py:4: UserWarning: Boolean Series key will be reindexed to match DataFrame index.\n",
      "  red1 = red[(data['x'] >= lb) & (data['x'] <= ub)]\n",
      "/var/folders/sy/m1107g5j24x3w6mcyb9njvyw0000gn/T/ipykernel_51904/1633426843.py:5: UserWarning: Boolean Series key will be reindexed to match DataFrame index.\n",
      "  blue1 = blue[(data['x'] >= lb) & (data['x'] <= ub)]\n"
     ]
    }
   ],
   "source": [
    "lb, ub = 4200, 20980.8\n",
    "disparity(data, lb, ub)"
   ],
   "metadata": {
    "collapsed": false
   }
  },
  {
   "cell_type": "code",
   "execution_count": null,
   "outputs": [],
   "source": [],
   "metadata": {
    "collapsed": false
   }
  },
  {
   "cell_type": "code",
   "execution_count": null,
   "outputs": [],
   "source": [],
   "metadata": {
    "collapsed": false
   }
  },
  {
   "cell_type": "code",
   "execution_count": 111,
   "outputs": [
    {
     "name": "stdout",
     "output_type": "stream",
     "text": [
      "22735 9142 31877 13593\n"
     ]
    },
    {
     "name": "stderr",
     "output_type": "stream",
     "text": [
      "/var/folders/sy/m1107g5j24x3w6mcyb9njvyw0000gn/T/ipykernel_51904/1932757084.py:5: UserWarning: Boolean Series key will be reindexed to match DataFrame index.\n",
      "  red1 = red[(data['x'] >= lb) & (data['x'] <= ub)]\n",
      "/var/folders/sy/m1107g5j24x3w6mcyb9njvyw0000gn/T/ipykernel_51904/1932757084.py:6: UserWarning: Boolean Series key will be reindexed to match DataFrame index.\n",
      "  blue1 = blue[(data['x'] >= lb) & (data['x'] <= ub)]\n"
     ]
    }
   ],
   "source": [
    "lb, ub = 5000, 35000\n",
    "disparity(data, lb, ub)"
   ],
   "metadata": {
    "collapsed": false
   }
  },
  {
   "cell_type": "code",
   "execution_count": null,
   "outputs": [],
   "source": [],
   "metadata": {
    "collapsed": false
   }
  },
  {
   "cell_type": "code",
   "execution_count": null,
   "outputs": [],
   "source": [],
   "metadata": {
    "collapsed": false
   }
  },
  {
   "cell_type": "code",
   "execution_count": null,
   "outputs": [],
   "source": [],
   "metadata": {
    "collapsed": false
   }
  },
  {
   "cell_type": "code",
   "execution_count": 112,
   "outputs": [
    {
     "name": "stdout",
     "output_type": "stream",
     "text": [
      "19026 17135 36161 1891\n"
     ]
    },
    {
     "name": "stderr",
     "output_type": "stream",
     "text": [
      "/var/folders/sy/m1107g5j24x3w6mcyb9njvyw0000gn/T/ipykernel_51904/1932757084.py:5: UserWarning: Boolean Series key will be reindexed to match DataFrame index.\n",
      "  red1 = red[(data['x'] >= lb) & (data['x'] <= ub)]\n",
      "/var/folders/sy/m1107g5j24x3w6mcyb9njvyw0000gn/T/ipykernel_51904/1932757084.py:6: UserWarning: Boolean Series key will be reindexed to match DataFrame index.\n",
      "  blue1 = blue[(data['x'] >= lb) & (data['x'] <= ub)]\n"
     ]
    }
   ],
   "source": [
    "lb, ub = 36076.8 , 44642\n",
    "disparity(data, lb, ub)"
   ],
   "metadata": {
    "collapsed": false
   }
  },
  {
   "cell_type": "code",
   "execution_count": 113,
   "outputs": [
    {
     "name": "stdout",
     "output_type": "stream",
     "text": [
      "82122 59428 141550 22694\n"
     ]
    },
    {
     "name": "stderr",
     "output_type": "stream",
     "text": [
      "/var/folders/sy/m1107g5j24x3w6mcyb9njvyw0000gn/T/ipykernel_51904/1932757084.py:5: UserWarning: Boolean Series key will be reindexed to match DataFrame index.\n",
      "  red1 = red[(data['x'] >= lb) & (data['x'] <= ub)]\n",
      "/var/folders/sy/m1107g5j24x3w6mcyb9njvyw0000gn/T/ipykernel_51904/1932757084.py:6: UserWarning: Boolean Series key will be reindexed to match DataFrame index.\n",
      "  blue1 = blue[(data['x'] >= lb) & (data['x'] <= ub)]\n"
     ]
    }
   ],
   "source": [
    "lb, ub = 5000 , 95000\n",
    "disparity(data, lb, ub)"
   ],
   "metadata": {
    "collapsed": false
   }
  },
  {
   "cell_type": "code",
   "execution_count": 114,
   "outputs": [
    {
     "name": "stdout",
     "output_type": "stream",
     "text": [
      "22965 22398 45363 567\n"
     ]
    },
    {
     "name": "stderr",
     "output_type": "stream",
     "text": [
      "/var/folders/sy/m1107g5j24x3w6mcyb9njvyw0000gn/T/ipykernel_51904/1932757084.py:5: UserWarning: Boolean Series key will be reindexed to match DataFrame index.\n",
      "  red1 = red[(data['x'] >= lb) & (data['x'] <= ub)]\n",
      "/var/folders/sy/m1107g5j24x3w6mcyb9njvyw0000gn/T/ipykernel_51904/1932757084.py:6: UserWarning: Boolean Series key will be reindexed to match DataFrame index.\n",
      "  blue1 = blue[(data['x'] >= lb) & (data['x'] <= ub)]\n"
     ]
    }
   ],
   "source": [
    "lb, ub = 39311.6 , 49248\n",
    "disparity(data, lb, ub)"
   ],
   "metadata": {
    "collapsed": false
   }
  },
  {
   "cell_type": "code",
   "execution_count": null,
   "outputs": [],
   "source": [],
   "metadata": {
    "collapsed": false
   }
  },
  {
   "cell_type": "code",
   "execution_count": null,
   "outputs": [],
   "source": [],
   "metadata": {
    "collapsed": false
   }
  },
  {
   "cell_type": "code",
   "execution_count": null,
   "outputs": [],
   "source": [],
   "metadata": {
    "collapsed": false
   }
  },
  {
   "cell_type": "code",
   "execution_count": null,
   "outputs": [],
   "source": [],
   "metadata": {
    "collapsed": false
   }
  },
  {
   "cell_type": "code",
   "execution_count": null,
   "outputs": [],
   "source": [],
   "metadata": {
    "collapsed": false
   }
  },
  {
   "cell_type": "code",
   "execution_count": null,
   "outputs": [],
   "source": [],
   "metadata": {
    "collapsed": false
   }
  },
  {
   "cell_type": "code",
   "execution_count": null,
   "outputs": [],
   "source": [],
   "metadata": {
    "collapsed": false
   }
  },
  {
   "cell_type": "code",
   "execution_count": null,
   "outputs": [],
   "source": [],
   "metadata": {
    "collapsed": false
   }
  },
  {
   "cell_type": "code",
   "execution_count": null,
   "outputs": [],
   "source": [],
   "metadata": {
    "collapsed": false
   }
  },
  {
   "cell_type": "code",
   "execution_count": null,
   "outputs": [],
   "source": [],
   "metadata": {
    "collapsed": false
   }
  },
  {
   "cell_type": "code",
   "execution_count": 58,
   "outputs": [
    {
     "name": "stdout",
     "output_type": "stream",
     "text": [
      "981\n"
     ]
    }
   ],
   "source": [
    "a = len(blue[(blue['x'] >= 4200) & (blue['x'] <= 20980.8)])\n",
    "print(a)"
   ],
   "metadata": {
    "collapsed": false
   }
  },
  {
   "cell_type": "code",
   "execution_count": 44,
   "outputs": [
    {
     "name": "stdout",
     "output_type": "stream",
     "text": [
      "1506\n"
     ]
    }
   ],
   "source": [
    "b = len(red[(red['x'] >= 4200) & (red['x'] <= 20980.8)])\n",
    "print(b)"
   ],
   "metadata": {
    "collapsed": false
   }
  },
  {
   "cell_type": "code",
   "execution_count": 38,
   "outputs": [
    {
     "data": {
      "text/plain": "94"
     },
     "execution_count": 38,
     "metadata": {},
     "output_type": "execute_result"
    }
   ],
   "source": [
    "b-a"
   ],
   "metadata": {
    "collapsed": false
   }
  },
  {
   "cell_type": "code",
   "execution_count": null,
   "outputs": [],
   "source": [],
   "metadata": {
    "collapsed": false
   }
  },
  {
   "cell_type": "code",
   "execution_count": 15,
   "outputs": [
    {
     "name": "stdout",
     "output_type": "stream",
     "text": [
      "149481\n"
     ]
    },
    {
     "name": "stderr",
     "output_type": "stream",
     "text": [
      "/var/folders/sy/m1107g5j24x3w6mcyb9njvyw0000gn/T/ipykernel_51904/3771947100.py:3: UserWarning: Boolean Series key will be reindexed to match DataFrame index.\n",
      "  data1 = data1[data['x'] <= 20980.8]\n"
     ]
    },
    {
     "data": {
      "text/plain": "2487"
     },
     "execution_count": 15,
     "metadata": {},
     "output_type": "execute_result"
    }
   ],
   "source": [
    "data1 = data[data['x'] >= 4200]\n",
    "print(len(data))\n",
    "data1 = data1[data['x'] <= 20980.8]\n",
    "len(data1)"
   ],
   "metadata": {
    "collapsed": false
   }
  },
  {
   "cell_type": "code",
   "execution_count": null,
   "outputs": [],
   "source": [],
   "metadata": {
    "collapsed": false
   }
  }
 ],
 "metadata": {
  "kernelspec": {
   "display_name": "Python 3",
   "language": "python",
   "name": "python3"
  },
  "language_info": {
   "codemirror_mode": {
    "name": "ipython",
    "version": 2
   },
   "file_extension": ".py",
   "mimetype": "text/x-python",
   "name": "python",
   "nbconvert_exporter": "python",
   "pygments_lexer": "ipython2",
   "version": "2.7.6"
  }
 },
 "nbformat": 4,
 "nbformat_minor": 0
}
