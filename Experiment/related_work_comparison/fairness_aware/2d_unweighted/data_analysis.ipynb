{
 "cells": [
  {
   "cell_type": "code",
   "execution_count": 22,
   "metadata": {
    "collapsed": true
   },
   "outputs": [],
   "source": [
    "import pandas as pd\n",
    "import numpy as np\n"
   ]
  },
  {
   "cell_type": "code",
   "execution_count": 23,
   "outputs": [
    {
     "name": "stdout",
     "output_type": "stream",
     "text": [
      "10000\n"
     ]
    },
    {
     "data": {
      "text/plain": "            x           y  blue\n0  196.117936  290.275447     0\n1  748.658545  683.729258     0\n2  280.366373  507.097135     1\n3  238.944206   72.706203     1\n4  953.546180  190.831150     1",
      "text/html": "<div>\n<style scoped>\n    .dataframe tbody tr th:only-of-type {\n        vertical-align: middle;\n    }\n\n    .dataframe tbody tr th {\n        vertical-align: top;\n    }\n\n    .dataframe thead th {\n        text-align: right;\n    }\n</style>\n<table border=\"1\" class=\"dataframe\">\n  <thead>\n    <tr style=\"text-align: right;\">\n      <th></th>\n      <th>x</th>\n      <th>y</th>\n      <th>blue</th>\n    </tr>\n  </thead>\n  <tbody>\n    <tr>\n      <th>0</th>\n      <td>196.117936</td>\n      <td>290.275447</td>\n      <td>0</td>\n    </tr>\n    <tr>\n      <th>1</th>\n      <td>748.658545</td>\n      <td>683.729258</td>\n      <td>0</td>\n    </tr>\n    <tr>\n      <th>2</th>\n      <td>280.366373</td>\n      <td>507.097135</td>\n      <td>1</td>\n    </tr>\n    <tr>\n      <th>3</th>\n      <td>238.944206</td>\n      <td>72.706203</td>\n      <td>1</td>\n    </tr>\n    <tr>\n      <th>4</th>\n      <td>953.546180</td>\n      <td>190.831150</td>\n      <td>1</td>\n    </tr>\n  </tbody>\n</table>\n</div>"
     },
     "execution_count": 23,
     "metadata": {},
     "output_type": "execute_result"
    }
   ],
   "source": [
    "data = pd.read_csv(r\"data/uniform.csv\", sep=' ')\n",
    "print(len(data))\n",
    "data.head()"
   ],
   "metadata": {
    "collapsed": false
   }
  },
  {
   "cell_type": "code",
   "execution_count": 24,
   "outputs": [
    {
     "name": "stdout",
     "output_type": "stream",
     "text": [
      "0.11924582610922661 999.8098074108867\n"
     ]
    }
   ],
   "source": [
    "print(data['x'].min(), data['x'].max())"
   ],
   "metadata": {
    "collapsed": false
   }
  },
  {
   "cell_type": "code",
   "execution_count": 25,
   "outputs": [
    {
     "name": "stdout",
     "output_type": "stream",
     "text": [
      "0.2799987691154415 999.950038090084\n"
     ]
    }
   ],
   "source": [
    "print(data['y'].min(), data['y'].max())"
   ],
   "metadata": {
    "collapsed": false
   }
  },
  {
   "cell_type": "code",
   "execution_count": 31,
   "outputs": [],
   "source": [
    "# minimum = [428.03427077147228, 266.49859849828562]\n",
    "# maximum = [934.38278704312359, 583.18982092891019]\n",
    "\n",
    "minimum = [427.328, 265.461]\n",
    "maximum = [999.810, 999.95]\n"
   ],
   "metadata": {
    "collapsed": false
   }
  },
  {
   "cell_type": "code",
   "execution_count": 31,
   "outputs": [],
   "source": [],
   "metadata": {
    "collapsed": false
   }
  },
  {
   "cell_type": "code",
   "execution_count": 32,
   "outputs": [
    {
     "name": "stdout",
     "output_type": "stream",
     "text": [
      "2092 2159 67\n"
     ]
    }
   ],
   "source": [
    "data1 = data[(data['x'] >= minimum[0]) & (data['x'] <= maximum[0]) & (data['y'] >= minimum[1]) & (data['y'] <= maximum[1])]\n",
    "\n",
    "blue = data1[data1['blue'] == 1]\n",
    "red = data1[data1['blue'] == 0]\n",
    "print(len(blue), len(red), len(red) - len(blue))"
   ],
   "metadata": {
    "collapsed": false
   }
  },
  {
   "cell_type": "code",
   "execution_count": null,
   "outputs": [],
   "source": [],
   "metadata": {
    "collapsed": false,
    "pycharm": {
     "is_executing": true
    }
   }
  },
  {
   "cell_type": "code",
   "execution_count": 10,
   "outputs": [],
   "source": [],
   "metadata": {
    "collapsed": false
   }
  }
 ],
 "metadata": {
  "kernelspec": {
   "display_name": "Python 3",
   "language": "python",
   "name": "python3"
  },
  "language_info": {
   "codemirror_mode": {
    "name": "ipython",
    "version": 2
   },
   "file_extension": ".py",
   "mimetype": "text/x-python",
   "name": "python",
   "nbconvert_exporter": "python",
   "pygments_lexer": "ipython2",
   "version": "2.7.6"
  }
 },
 "nbformat": 4,
 "nbformat_minor": 0
}
