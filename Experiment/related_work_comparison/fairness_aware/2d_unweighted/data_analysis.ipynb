{
 "cells": [
  {
   "cell_type": "code",
   "execution_count": 2,
   "metadata": {
    "collapsed": true
   },
   "outputs": [],
   "source": [
    "import pandas as pd\n",
    "import numpy as np\n"
   ]
  },
  {
   "cell_type": "code",
   "execution_count": 3,
   "outputs": [
    {
     "name": "stdout",
     "output_type": "stream",
     "text": [
      "10000\n"
     ]
    },
    {
     "data": {
      "text/plain": "            x           y  blue\n0  196.117936  290.275447     0\n1  748.658545  683.729258     0\n2  280.366373  507.097135     1\n3  238.944206   72.706203     1\n4  953.546180  190.831150     1",
      "text/html": "<div>\n<style scoped>\n    .dataframe tbody tr th:only-of-type {\n        vertical-align: middle;\n    }\n\n    .dataframe tbody tr th {\n        vertical-align: top;\n    }\n\n    .dataframe thead th {\n        text-align: right;\n    }\n</style>\n<table border=\"1\" class=\"dataframe\">\n  <thead>\n    <tr style=\"text-align: right;\">\n      <th></th>\n      <th>x</th>\n      <th>y</th>\n      <th>blue</th>\n    </tr>\n  </thead>\n  <tbody>\n    <tr>\n      <th>0</th>\n      <td>196.117936</td>\n      <td>290.275447</td>\n      <td>0</td>\n    </tr>\n    <tr>\n      <th>1</th>\n      <td>748.658545</td>\n      <td>683.729258</td>\n      <td>0</td>\n    </tr>\n    <tr>\n      <th>2</th>\n      <td>280.366373</td>\n      <td>507.097135</td>\n      <td>1</td>\n    </tr>\n    <tr>\n      <th>3</th>\n      <td>238.944206</td>\n      <td>72.706203</td>\n      <td>1</td>\n    </tr>\n    <tr>\n      <th>4</th>\n      <td>953.546180</td>\n      <td>190.831150</td>\n      <td>1</td>\n    </tr>\n  </tbody>\n</table>\n</div>"
     },
     "execution_count": 3,
     "metadata": {},
     "output_type": "execute_result"
    }
   ],
   "source": [
    "data = pd.read_csv(r\"../data/uniform.csv\", sep=' ')\n",
    "print(len(data))\n",
    "data.head()"
   ],
   "metadata": {
    "collapsed": false
   }
  },
  {
   "cell_type": "code",
   "execution_count": 4,
   "outputs": [
    {
     "name": "stdout",
     "output_type": "stream",
     "text": [
      "Empty DataFrame\n",
      "Columns: [x, y, blue]\n",
      "Index: []\n"
     ]
    }
   ],
   "source": [
    "# Assuming you already have a DataFrame called 'df' with columns 'x', 'y', and 'blue'\n",
    "# Create a boolean mask to identify rows with duplicated x and y values\n",
    "mask = data.duplicated(subset=['x', 'y'], keep=False)\n",
    "\n",
    "# Apply the mask to the DataFrame to get the rows with same x and y values\n",
    "duplicated_rows = data[mask]\n",
    "\n",
    "# Print the duplicated rows\n",
    "print(duplicated_rows)"
   ],
   "metadata": {
    "collapsed": false
   }
  },
  {
   "cell_type": "code",
   "execution_count": 5,
   "outputs": [],
   "source": [
    "def jaccard_similarity_set(set_a, set_b):\n",
    "    # Calculate the intersection of the sets\n",
    "    intersection = set_a.intersection(set_b)\n",
    "\n",
    "    # Calculate the union of the sets\n",
    "    union = set_a.union(set_b)\n",
    "\n",
    "    # Calculate the Jaccard similarity\n",
    "    if len(union) == 0:\n",
    "        return 0.0  # If both sets are empty, the Jaccard similarity is defined as 0\n",
    "\n",
    "    return len(intersection) / len(union)\n",
    "#\n",
    "# def jaccard_similarity_query(data, lb1, ub1, lb2, ub2):\n",
    "#     d1 = data[(data['x'] >= lb1) & (data['x'] <= ub1)]\n",
    "#     res1 = d1['x'].index\n",
    "#     d2 = data[(data['x'] >= lb2) & (data['x'] <= ub2)]\n",
    "#     res2 = d2['x'].values\n",
    "#     a = jaccard_similarity_set(set(res1), set(res2))\n",
    "#     print(a)\n",
    "#     return a\n",
    "\n",
    "\n",
    "def jaccard_similarity_query(data, lb1, ub1, lb2, ub2):\n",
    "    idx1 = data.index[(data['x'] >= lb1) & (data['x'] <= ub1)]\n",
    "    idx2 = data.index[(data['x'] >= lb2) & (data['x'] <= ub2)]\n",
    "    a = jaccard_similarity_set(set(idx1), set(idx2))\n",
    "    print(a)\n",
    "    return a\n",
    "\n"
   ],
   "metadata": {
    "collapsed": false
   }
  },
  {
   "cell_type": "code",
   "execution_count": 6,
   "outputs": [],
   "source": [
    "\n",
    "def disparity(data, query):\n",
    "    xmin, xmax, ymin, ymax = query\n",
    "    input_data = data[(data['x'] >= xmin) & (data['x'] <= xmax) & (data['y'] >= ymin) & (data['y'] <= ymax)]\n",
    "    print(len(input_data))\n",
    "    # print(input_data)\n",
    "    # blue = data[data['blue'] == 1]\n",
    "    # red = data[data['blue'] == 0]\n",
    "    red1 = input_data[input_data['blue'] == 0]\n",
    "    blue1 = input_data[input_data['blue'] == 1]\n",
    "    # red1 = red[(red['x'] >= xmin) & (red['x'] <= xmax) & (red['y'] >= ymin) & (red['y'] <= ymax)]\n",
    "    # blue1 = blue[(blue['x'] >= xmin) & (blue['x'] <= xmax) & (blue['y'] >= ymin) & (blue['y'] <= ymax)]\n",
    "    a = len(red1)\n",
    "    b = len(blue1)\n",
    "    print(a, b, a+b, a-b)\n"
   ],
   "metadata": {
    "collapsed": false
   }
  },
  {
   "cell_type": "code",
   "execution_count": 7,
   "outputs": [
    {
     "name": "stdout",
     "output_type": "stream",
     "text": [
      "1186\n",
      "611 575 1186 36\n"
     ]
    }
   ],
   "source": [
    "# query = [xmin, xmax, ymin, ymax]\n",
    "query = [200, 500, 400, 800]\n",
    "disparity(data, query)\n"
   ],
   "metadata": {
    "collapsed": false
   }
  },
  {
   "cell_type": "code",
   "execution_count": 7,
   "outputs": [],
   "source": [],
   "metadata": {
    "collapsed": false
   }
  },
  {
   "cell_type": "markdown",
   "source": [
    "# epsilon = 31"
   ],
   "metadata": {
    "collapsed": false
   }
  },
  {
   "cell_type": "code",
   "execution_count": 8,
   "outputs": [
    {
     "name": "stdout",
     "output_type": "stream",
     "text": [
      "1191\n",
      "611 580 1191 31\n"
     ]
    }
   ],
   "source": [
    "# ranged returned by Shetya et.al\n",
    "\n",
    "x = [200, 500.24174116759866]\n",
    "y = [399.43294976189372, 800.06324607567922]\n",
    "disparity(data, [x[0], x[1], y[0], y[1]])"
   ],
   "metadata": {
    "collapsed": false
   }
  },
  {
   "cell_type": "markdown",
   "source": [
    "## result i found"
   ],
   "metadata": {
    "collapsed": false
   }
  },
  {
   "cell_type": "code",
   "execution_count": 17,
   "outputs": [
    {
     "name": "stdout",
     "output_type": "stream",
     "text": [
      "1225\n",
      "628 597 1225 31\n"
     ]
    }
   ],
   "source": [
    "disparity(data, [200, 500, 400, 811.4168567493377])"
   ],
   "metadata": {
    "collapsed": false
   }
  },
  {
   "cell_type": "code",
   "execution_count": 21,
   "outputs": [
    {
     "name": "stdout",
     "output_type": "stream",
     "text": [
      "1332\n",
      "680 652 1332 28\n"
     ]
    }
   ],
   "source": [
    "disparity(data, [200, 500, 347.322361157726, 800.0])"
   ],
   "metadata": {
    "collapsed": false
   }
  },
  {
   "cell_type": "code",
   "execution_count": 22,
   "outputs": [
    {
     "name": "stdout",
     "output_type": "stream",
     "text": [
      "1215\n",
      "623 592 1215 31\n"
     ]
    }
   ],
   "source": [
    "disparity(data, [200, 500, 400.2229732248145, 809.3523681424118])"
   ],
   "metadata": {
    "collapsed": false
   }
  },
  {
   "cell_type": "code",
   "execution_count": 23,
   "outputs": [
    {
     "name": "stdout",
     "output_type": "stream",
     "text": [
      "1225\n",
      "628 597 1225 31\n"
     ]
    }
   ],
   "source": [
    "disparity(data, [200, 500.14488928546336, 400.0, 811.3592713417162])"
   ],
   "metadata": {
    "collapsed": false
   }
  },
  {
   "cell_type": "code",
   "execution_count": 24,
   "outputs": [
    {
     "name": "stdout",
     "output_type": "stream",
     "text": [
      "1243\n",
      "637 606 1243 31\n"
     ]
    }
   ],
   "source": [
    "disparity(data, [195.11715772636677, 500.0, 400.1161569793512, 811.3592713417162])"
   ],
   "metadata": {
    "collapsed": false
   }
  },
  {
   "cell_type": "code",
   "execution_count": null,
   "outputs": [],
   "source": [],
   "metadata": {
    "collapsed": false
   }
  }
 ],
 "metadata": {
  "kernelspec": {
   "display_name": "Python 3",
   "language": "python",
   "name": "python3"
  },
  "language_info": {
   "codemirror_mode": {
    "name": "ipython",
    "version": 2
   },
   "file_extension": ".py",
   "mimetype": "text/x-python",
   "name": "python",
   "nbconvert_exporter": "python",
   "pygments_lexer": "ipython2",
   "version": "2.7.6"
  }
 },
 "nbformat": 4,
 "nbformat_minor": 0
}
