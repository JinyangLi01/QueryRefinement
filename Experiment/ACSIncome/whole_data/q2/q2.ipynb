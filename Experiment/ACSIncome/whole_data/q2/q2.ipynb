{
 "cells": [
  {
   "cell_type": "code",
   "execution_count": 14,
   "metadata": {
    "collapsed": true
   },
   "outputs": [],
   "source": [
    "import os\n",
    "import time\n",
    "\n",
    "import matplotlib.pyplot as plt\n",
    "import matplotlib as mpl\n",
    "import numpy as np\n",
    "import pandas as pd\n",
    "import seaborn as sns\n",
    "sns.set_style('whitegrid', {'axes.edgecolor': '.2'})\n",
    "sns.set_context('notebook', font_scale=1.4)\n",
    "\n",
    "from fairlearn.datasets import fetch_acs_income"
   ]
  },
  {
   "cell_type": "code",
   "execution_count": 15,
   "outputs": [],
   "source": [
    "data = pd.read_csv('../../data/acs_income.csv', index_col=False)"
   ],
   "metadata": {
    "collapsed": false
   }
  },
  {
   "cell_type": "code",
   "execution_count": 16,
   "outputs": [
    {
     "data": {
      "text/plain": "               AGEP           COW          SCHL           MAR          OCCP  \\\ncount  1.664500e+06  1.664500e+06  1.664500e+06  1.664500e+06  1.664500e+06   \nmean   4.341127e+01  2.077500e+00  1.861814e+01  2.521997e+00  4.180517e+03   \nstd    1.530203e+01  1.825338e+00  3.297826e+00  1.796720e+00  2.658717e+03   \nmin    1.700000e+01  1.000000e+00  1.000000e+00  1.000000e+00  1.000000e+01   \n25%    3.000000e+01  1.000000e+00  1.600000e+01  1.000000e+00  2.205000e+03   \n50%    4.300000e+01  1.000000e+00  1.900000e+01  1.000000e+00  4.200000e+03   \n75%    5.600000e+01  3.000000e+00  2.100000e+01  5.000000e+00  5.740000e+03   \nmax    9.600000e+01  8.000000e+00  2.400000e+01  5.000000e+00  9.830000e+03   \n\n               POBP          RELP          WKHP         RAC1P         PINCP  \ncount  1.664500e+06  1.664500e+06  1.664500e+06  1.664500e+06  1.664500e+06  \nmean   6.581708e+01  2.241254e+00  3.833390e+01  1.874745e+00  5.666386e+04  \nstd    9.306245e+01  4.385288e+00  1.308073e+01  2.084384e+00  7.306745e+04  \nmin    1.000000e+00  0.000000e+00  1.000000e+00  1.000000e+00  1.040000e+02  \n25%    1.800000e+01  0.000000e+00  3.500000e+01  1.000000e+00  2.000000e+04  \n50%    3.600000e+01  1.000000e+00  4.000000e+01  1.000000e+00  3.900000e+04  \n75%    4.800000e+01  2.000000e+00  4.400000e+01  1.000000e+00  6.800000e+04  \nmax    5.540000e+02  1.700000e+01  9.900000e+01  9.000000e+00  1.423000e+06  ",
      "text/html": "<div>\n<style scoped>\n    .dataframe tbody tr th:only-of-type {\n        vertical-align: middle;\n    }\n\n    .dataframe tbody tr th {\n        vertical-align: top;\n    }\n\n    .dataframe thead th {\n        text-align: right;\n    }\n</style>\n<table border=\"1\" class=\"dataframe\">\n  <thead>\n    <tr style=\"text-align: right;\">\n      <th></th>\n      <th>AGEP</th>\n      <th>COW</th>\n      <th>SCHL</th>\n      <th>MAR</th>\n      <th>OCCP</th>\n      <th>POBP</th>\n      <th>RELP</th>\n      <th>WKHP</th>\n      <th>RAC1P</th>\n      <th>PINCP</th>\n    </tr>\n  </thead>\n  <tbody>\n    <tr>\n      <th>count</th>\n      <td>1.664500e+06</td>\n      <td>1.664500e+06</td>\n      <td>1.664500e+06</td>\n      <td>1.664500e+06</td>\n      <td>1.664500e+06</td>\n      <td>1.664500e+06</td>\n      <td>1.664500e+06</td>\n      <td>1.664500e+06</td>\n      <td>1.664500e+06</td>\n      <td>1.664500e+06</td>\n    </tr>\n    <tr>\n      <th>mean</th>\n      <td>4.341127e+01</td>\n      <td>2.077500e+00</td>\n      <td>1.861814e+01</td>\n      <td>2.521997e+00</td>\n      <td>4.180517e+03</td>\n      <td>6.581708e+01</td>\n      <td>2.241254e+00</td>\n      <td>3.833390e+01</td>\n      <td>1.874745e+00</td>\n      <td>5.666386e+04</td>\n    </tr>\n    <tr>\n      <th>std</th>\n      <td>1.530203e+01</td>\n      <td>1.825338e+00</td>\n      <td>3.297826e+00</td>\n      <td>1.796720e+00</td>\n      <td>2.658717e+03</td>\n      <td>9.306245e+01</td>\n      <td>4.385288e+00</td>\n      <td>1.308073e+01</td>\n      <td>2.084384e+00</td>\n      <td>7.306745e+04</td>\n    </tr>\n    <tr>\n      <th>min</th>\n      <td>1.700000e+01</td>\n      <td>1.000000e+00</td>\n      <td>1.000000e+00</td>\n      <td>1.000000e+00</td>\n      <td>1.000000e+01</td>\n      <td>1.000000e+00</td>\n      <td>0.000000e+00</td>\n      <td>1.000000e+00</td>\n      <td>1.000000e+00</td>\n      <td>1.040000e+02</td>\n    </tr>\n    <tr>\n      <th>25%</th>\n      <td>3.000000e+01</td>\n      <td>1.000000e+00</td>\n      <td>1.600000e+01</td>\n      <td>1.000000e+00</td>\n      <td>2.205000e+03</td>\n      <td>1.800000e+01</td>\n      <td>0.000000e+00</td>\n      <td>3.500000e+01</td>\n      <td>1.000000e+00</td>\n      <td>2.000000e+04</td>\n    </tr>\n    <tr>\n      <th>50%</th>\n      <td>4.300000e+01</td>\n      <td>1.000000e+00</td>\n      <td>1.900000e+01</td>\n      <td>1.000000e+00</td>\n      <td>4.200000e+03</td>\n      <td>3.600000e+01</td>\n      <td>1.000000e+00</td>\n      <td>4.000000e+01</td>\n      <td>1.000000e+00</td>\n      <td>3.900000e+04</td>\n    </tr>\n    <tr>\n      <th>75%</th>\n      <td>5.600000e+01</td>\n      <td>3.000000e+00</td>\n      <td>2.100000e+01</td>\n      <td>5.000000e+00</td>\n      <td>5.740000e+03</td>\n      <td>4.800000e+01</td>\n      <td>2.000000e+00</td>\n      <td>4.400000e+01</td>\n      <td>1.000000e+00</td>\n      <td>6.800000e+04</td>\n    </tr>\n    <tr>\n      <th>max</th>\n      <td>9.600000e+01</td>\n      <td>8.000000e+00</td>\n      <td>2.400000e+01</td>\n      <td>5.000000e+00</td>\n      <td>9.830000e+03</td>\n      <td>5.540000e+02</td>\n      <td>1.700000e+01</td>\n      <td>9.900000e+01</td>\n      <td>9.000000e+00</td>\n      <td>1.423000e+06</td>\n    </tr>\n  </tbody>\n</table>\n</div>"
     },
     "execution_count": 16,
     "metadata": {},
     "output_type": "execute_result"
    }
   ],
   "source": [
    "data.describe()\n"
   ],
   "metadata": {
    "collapsed": false
   }
  },
  {
   "cell_type": "code",
   "execution_count": 17,
   "outputs": [
    {
     "name": "stdout",
     "output_type": "stream",
     "text": [
      "414019\n"
     ]
    }
   ],
   "source": [
    "data1 = data[(data[\"SEX\"] == \"F\") & (data[\"MAR\"] == 1)]\n",
    "print(len(data1))"
   ],
   "metadata": {
    "collapsed": false
   }
  },
  {
   "cell_type": "code",
   "execution_count": 18,
   "outputs": [
    {
     "name": "stdout",
     "output_type": "stream",
     "text": [
      "147573\n"
     ]
    }
   ],
   "source": [
    "data2 = data[(data[\"RAC1P\"] == 2)]\n",
    "print(len(data2))"
   ],
   "metadata": {
    "collapsed": false
   }
  },
  {
   "cell_type": "code",
   "execution_count": 19,
   "outputs": [
    {
     "name": "stdout",
     "output_type": "stream",
     "text": [
      "1444173\n"
     ]
    }
   ],
   "source": [
    "print(len(data[data['WKHP'] >= 23]))"
   ],
   "metadata": {
    "collapsed": false
   }
  },
  {
   "cell_type": "code",
   "execution_count": 19,
   "outputs": [],
   "source": [],
   "metadata": {
    "collapsed": false
   }
  },
  {
   "cell_type": "markdown",
   "source": [
    "# query"
   ],
   "metadata": {
    "collapsed": false
   }
  },
  {
   "cell_type": "code",
   "execution_count": 42,
   "outputs": [
    {
     "data": {
      "text/plain": "105768"
     },
     "execution_count": 42,
     "metadata": {},
     "output_type": "execute_result"
    }
   ],
   "source": [
    "data = data[(data['WKHP'] <= 40) & (data['PINCP'] >= 39000)]\n",
    "data = data[(data['OCCP_bucket'] == \"CSSO\") | (data['OCCP_bucket'] == \"HPTO\") | (data['OCCP_bucket'] == \"PSO\") | (data['OCCP_bucket'] == \"PCSO\") | (data['OCCP_bucket'] == \"CEO\")]\n",
    "len(data)\n"
   ],
   "metadata": {
    "collapsed": false
   }
  },
  {
   "cell_type": "code",
   "execution_count": 20,
   "outputs": [],
   "source": [
    "\n"
   ],
   "metadata": {
    "collapsed": false
   }
  },
  {
   "cell_type": "code",
   "execution_count": 20,
   "outputs": [],
   "source": [
    "\n"
   ],
   "metadata": {
    "collapsed": false
   }
  },
  {
   "cell_type": "code",
   "execution_count": 21,
   "outputs": [],
   "source": [
    "relax_rate = 1.3\n",
    "contract_rate = 0.8\n",
    "relax_rate_change = [1.1, 1.2, 1.3, 1.4, 1.5, 1.6]\n",
    "contract_rate_change = [0.4, 0.5, 0.6, 0.7, 0.8, 0.9]"
   ],
   "metadata": {
    "collapsed": false
   }
  },
  {
   "cell_type": "markdown",
   "source": [
    "# relax"
   ],
   "metadata": {
    "collapsed": false
   }
  },
  {
   "cell_type": "code",
   "execution_count": 36,
   "outputs": [
    {
     "name": "stdout",
     "output_type": "stream",
     "text": [
      "18267\n",
      "23747.100000000002\n"
     ]
    }
   ],
   "source": [
    "data1 = data[(data[\"age_bucket\"] == \"60+\") & (data[\"RAC1P\"] == 2)]\n",
    "print(len(data1))\n",
    "print(len(data1) * relax_rate)"
   ],
   "metadata": {
    "collapsed": false
   }
  },
  {
   "cell_type": "code",
   "execution_count": 37,
   "outputs": [
    {
     "name": "stdout",
     "output_type": "stream",
     "text": [
      "20093.7\n",
      "21920.399999999998\n",
      "23747.100000000002\n",
      "25573.8\n",
      "27400.5\n",
      "29227.2\n"
     ]
    }
   ],
   "source": [
    "for s in relax_rate_change:\n",
    "    print(len(data1) * s)"
   ],
   "metadata": {
    "collapsed": false
   }
  },
  {
   "cell_type": "code",
   "execution_count": 38,
   "outputs": [
    {
     "name": "stdout",
     "output_type": "stream",
     "text": [
      "21920.399999999998\n",
      "25573.8\n",
      "29227.2\n",
      "32880.6\n",
      "36534.0\n",
      "40187.4\n"
     ]
    }
   ],
   "source": [
    "for s in [1.2, 1.4, 1.6, 1.8, 2.0, 2.2]:\n",
    "    print(len(data1) * s)"
   ],
   "metadata": {
    "collapsed": false
   }
  },
  {
   "cell_type": "code",
   "execution_count": 39,
   "outputs": [
    {
     "name": "stdout",
     "output_type": "stream",
     "text": [
      "11083\n",
      "14407.9\n"
     ]
    }
   ],
   "source": [
    "data2 = data[(data[\"RELP\"] == 2) & (data[\"MAR\"] == 3)]\n",
    "print(len(data2))\n",
    "print(len(data2) * relax_rate)"
   ],
   "metadata": {
    "collapsed": false
   }
  },
  {
   "cell_type": "code",
   "execution_count": 41,
   "outputs": [
    {
     "name": "stdout",
     "output_type": "stream",
     "text": [
      "21068\n",
      "27388.4\n"
     ]
    }
   ],
   "source": [
    "data3 = data[(data[\"SEX\"] == 'M') & (data[\"RAC1P\"] == 9)]\n",
    "print(len(data3))\n",
    "print(len(data3) * relax_rate)"
   ],
   "metadata": {
    "collapsed": false
   }
  },
  {
   "cell_type": "code",
   "execution_count": 25,
   "outputs": [],
   "source": [],
   "metadata": {
    "collapsed": false
   }
  },
  {
   "cell_type": "markdown",
   "source": [
    "# contract"
   ],
   "metadata": {
    "collapsed": false
   }
  },
  {
   "cell_type": "code",
   "execution_count": 26,
   "outputs": [
    {
     "name": "stdout",
     "output_type": "stream",
     "text": [
      "14471\n",
      "11576.800000000001\n"
     ]
    }
   ],
   "source": [
    "data1 = data[(data[\"SEX\"] == \"M\") & (data[\"RELP\"] == 1)]\n",
    "print(len(data1))\n",
    "print(len(data1) * contract_rate)"
   ],
   "metadata": {
    "collapsed": false
   }
  },
  {
   "cell_type": "code",
   "execution_count": 27,
   "outputs": [
    {
     "name": "stdout",
     "output_type": "stream",
     "text": [
      "5788.400000000001\n",
      "7235.5\n",
      "8682.6\n",
      "10129.699999999999\n",
      "11576.800000000001\n",
      "13023.9\n"
     ]
    }
   ],
   "source": [
    "for s in contract_rate_change:\n",
    "    print(len(data1) * s)"
   ],
   "metadata": {
    "collapsed": false
   }
  },
  {
   "cell_type": "code",
   "execution_count": 28,
   "outputs": [
    {
     "name": "stdout",
     "output_type": "stream",
     "text": [
      "9419\n",
      "7535.200000000001\n"
     ]
    }
   ],
   "source": [
    "data1 = data[(data[\"MAR\"] == 3) & (data[\"age_bucket\"] == \"30-60\")]\n",
    "print(len(data1))\n",
    "print(len(data1) * contract_rate)"
   ],
   "metadata": {
    "collapsed": false
   }
  },
  {
   "cell_type": "code",
   "execution_count": 28,
   "outputs": [],
   "source": [],
   "metadata": {
    "collapsed": false
   }
  },
  {
   "cell_type": "code",
   "execution_count": 28,
   "outputs": [],
   "source": [],
   "metadata": {
    "collapsed": false
   }
  },
  {
   "cell_type": "markdown",
   "source": [
    "# refine"
   ],
   "metadata": {
    "collapsed": false
   }
  },
  {
   "cell_type": "code",
   "execution_count": 29,
   "outputs": [
    {
     "name": "stdout",
     "output_type": "stream",
     "text": [
      "34966\n",
      "36714.3\n"
     ]
    }
   ],
   "source": [
    "data1 = data[(data[\"SEX\"] == \"F\") & (data[\"MAR\"] == 1)]\n",
    "print(len(data1))\n",
    "print(len(data1) * 1.05)"
   ],
   "metadata": {
    "collapsed": false
   }
  },
  {
   "cell_type": "code",
   "execution_count": 30,
   "outputs": [
    {
     "name": "stdout",
     "output_type": "stream",
     "text": [
      "35665.32\n",
      "36364.64\n",
      "37063.96\n",
      "37763.280000000006\n",
      "38462.600000000006\n",
      "39161.920000000006\n"
     ]
    }
   ],
   "source": [
    "s = [1.02, 1.04, 1.06, 1.08, 1.10, 1.12]\n",
    "for r in s:\n",
    "    print(len(data1) * r)"
   ],
   "metadata": {
    "collapsed": false
   }
  },
  {
   "cell_type": "code",
   "execution_count": 30,
   "outputs": [],
   "source": [],
   "metadata": {
    "collapsed": false
   }
  },
  {
   "cell_type": "code",
   "execution_count": 31,
   "outputs": [
    {
     "name": "stdout",
     "output_type": "stream",
     "text": [
      "2674\n",
      "2540.2999999999997\n"
     ]
    }
   ],
   "source": [
    "data1 = data[(data[\"SEX\"] == \"M\") & (data[\"RAC1P\"] == 6)]\n",
    "print(len(data1))\n",
    "print(len(data1) * 0.95)"
   ],
   "metadata": {
    "collapsed": false
   }
  },
  {
   "cell_type": "code",
   "execution_count": 32,
   "outputs": [
    {
     "name": "stdout",
     "output_type": "stream",
     "text": [
      "2353.12\n",
      "2406.6\n",
      "2460.08\n",
      "2513.56\n",
      "2567.04\n",
      "2620.52\n"
     ]
    }
   ],
   "source": [
    "s = [0.88, 0.90, 0.92, 0.94, 0.96, 0.98]\n",
    "for r in s:\n",
    "    print(len(data1) * r)"
   ],
   "metadata": {
    "collapsed": false
   }
  },
  {
   "cell_type": "code",
   "execution_count": 32,
   "outputs": [],
   "source": [],
   "metadata": {
    "collapsed": false
   }
  },
  {
   "cell_type": "markdown",
   "source": [
    "# query selectivity"
   ],
   "metadata": {
    "collapsed": false
   }
  },
  {
   "cell_type": "code",
   "execution_count": 33,
   "outputs": [],
   "source": [
    "data = pd.read_csv('../../data/acs_income.csv', index_col=False)\n",
    "# data = data[(data['WKHP'] >= 44) & (data['SCHL'] >= 21)]\n",
    "# data = data[(data['COW'] == 3) | (data['COW'] == 4) | (data['COW'] == 5)]\n",
    "# len(data)\n"
   ],
   "metadata": {
    "collapsed": false
   }
  },
  {
   "cell_type": "code",
   "execution_count": 34,
   "outputs": [
    {
     "name": "stdout",
     "output_type": "stream",
     "text": [
      "0% percentile: 1.0\n",
      "10% percentile: 20.0\n",
      "20% percentile: 30.0\n",
      "30% percentile: 38.0\n",
      "40% percentile: 40.0\n",
      "50% percentile: 40.0\n",
      "60% percentile: 40.0\n",
      "70% percentile: 40.0\n",
      "80% percentile: 45.0\n",
      "90% percentile: 50.0\n",
      "100% percentile: 99.0\n"
     ]
    }
   ],
   "source": [
    "for i in range(0, 101, 10):\n",
    "    value = data['WKHP'].quantile(i / 100)\n",
    "    print(f\"{i}% percentile: {value}\")"
   ],
   "metadata": {
    "collapsed": false
   }
  },
  {
   "cell_type": "code",
   "execution_count": 35,
   "outputs": [
    {
     "name": "stdout",
     "output_type": "stream",
     "text": [
      "0% percentile: 1.0\n",
      "10% percentile: 16.0\n",
      "20% percentile: 16.0\n",
      "30% percentile: 17.0\n",
      "40% percentile: 19.0\n",
      "50% percentile: 19.0\n",
      "60% percentile: 20.0\n",
      "70% percentile: 21.0\n",
      "80% percentile: 21.0\n",
      "90% percentile: 22.0\n",
      "100% percentile: 24.0\n"
     ]
    }
   ],
   "source": [
    "for i in range(0, 101, 10):\n",
    "    value = data['SCHL'].quantile(i / 100)\n",
    "    print(f\"{i}% percentile: {value}\")"
   ],
   "metadata": {
    "collapsed": false
   }
  },
  {
   "cell_type": "code",
   "execution_count": null,
   "outputs": [],
   "source": [],
   "metadata": {
    "collapsed": false
   }
  }
 ],
 "metadata": {
  "kernelspec": {
   "display_name": "Python 3",
   "language": "python",
   "name": "python3"
  },
  "language_info": {
   "codemirror_mode": {
    "name": "ipython",
    "version": 2
   },
   "file_extension": ".py",
   "mimetype": "text/x-python",
   "name": "python",
   "nbconvert_exporter": "python",
   "pygments_lexer": "ipython2",
   "version": "2.7.6"
  }
 },
 "nbformat": 4,
 "nbformat_minor": 0
}
