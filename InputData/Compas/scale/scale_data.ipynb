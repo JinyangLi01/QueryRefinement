{
 "cells": [
  {
   "cell_type": "code",
   "execution_count": 1,
   "metadata": {
    "collapsed": true,
    "pycharm": {
     "name": "#%%\n"
    }
   },
   "outputs": [],
   "source": [
    "import pandas as pd\n",
    "import numpy as np\n",
    "\n",
    "from Algorithm import ProvenanceSearchValues_6_20220825 as ps\n",
    "from Algorithm import LatticeTraversal_2_2022405 as lt\n"
   ]
  },
  {
   "cell_type": "code",
   "execution_count": 4,
   "outputs": [
    {
     "data": {
      "text/plain": "11757"
     },
     "execution_count": 4,
     "metadata": {},
     "output_type": "execute_result"
    }
   ],
   "source": [
    "compas = pd.read_csv(r\"../compas-scores.csv\", index_col=False)\n",
    "len(compas)"
   ],
   "metadata": {
    "collapsed": false,
    "pycharm": {
     "name": "#%%\n"
    }
   }
  },
  {
   "cell_type": "code",
   "execution_count": 5,
   "outputs": [
    {
     "data": {
      "text/plain": "                 id           age  juv-fel-count  decile-score  \\\ncount  11757.000000  11757.000000   11757.000000  11757.000000   \nmean    5879.000000     35.143319       0.061580      4.371268   \nstd     3394.097892     12.022894       0.445328      2.877598   \nmin        1.000000     18.000000       0.000000     -1.000000   \n25%     2940.000000     25.000000       0.000000      2.000000   \n50%     5879.000000     32.000000       0.000000      4.000000   \n75%     8818.000000     43.000000       0.000000      7.000000   \nmax    11757.000000     96.000000      20.000000     10.000000   \n\n       juv-misd-count  juv-other-count  priors-count  days-b-screening-arrest  \\\ncount    11757.000000     11757.000000  11757.000000             10577.000000   \nmean         0.076040         0.093561      3.082164                -0.878037   \nstd          0.449757         0.472003      4.687410                72.889298   \nmin          0.000000         0.000000      0.000000              -597.000000   \n25%          0.000000         0.000000      0.000000                -1.000000   \n50%          0.000000         0.000000      1.000000                -1.000000   \n75%          0.000000         0.000000      4.000000                -1.000000   \nmax         13.000000        17.000000     43.000000              1057.000000   \n\n       c-days-from-compas      is-recid  num-r-cases  r-days-from-arrest  \\\ncount        11015.000000  11757.000000          0.0         2460.000000   \nmean            63.587653      0.253806          NaN           20.410569   \nstd            341.899711      0.558324          NaN           74.354840   \nmin              0.000000     -1.000000          NaN           -1.000000   \n25%              1.000000      0.000000          NaN            0.000000   \n50%              1.000000      0.000000          NaN            0.000000   \n75%              2.000000      1.000000          NaN            1.000000   \nmax           9485.000000      1.000000          NaN          993.000000   \n\n       is-violent-recid  num-vr-cases  v-decile-score  decile-score.1  \ncount      11757.000000           0.0    11757.000000    11757.000000  \nmean           0.075019           NaN        3.571489        4.371268  \nstd            0.263433           NaN        2.500479        2.877598  \nmin            0.000000           NaN       -1.000000       -1.000000  \n25%            0.000000           NaN        1.000000        2.000000  \n50%            0.000000           NaN        3.000000        4.000000  \n75%            0.000000           NaN        5.000000        7.000000  \nmax            1.000000           NaN       10.000000       10.000000  ",
      "text/html": "<div>\n<style scoped>\n    .dataframe tbody tr th:only-of-type {\n        vertical-align: middle;\n    }\n\n    .dataframe tbody tr th {\n        vertical-align: top;\n    }\n\n    .dataframe thead th {\n        text-align: right;\n    }\n</style>\n<table border=\"1\" class=\"dataframe\">\n  <thead>\n    <tr style=\"text-align: right;\">\n      <th></th>\n      <th>id</th>\n      <th>age</th>\n      <th>juv-fel-count</th>\n      <th>decile-score</th>\n      <th>juv-misd-count</th>\n      <th>juv-other-count</th>\n      <th>priors-count</th>\n      <th>days-b-screening-arrest</th>\n      <th>c-days-from-compas</th>\n      <th>is-recid</th>\n      <th>num-r-cases</th>\n      <th>r-days-from-arrest</th>\n      <th>is-violent-recid</th>\n      <th>num-vr-cases</th>\n      <th>v-decile-score</th>\n      <th>decile-score.1</th>\n    </tr>\n  </thead>\n  <tbody>\n    <tr>\n      <th>count</th>\n      <td>11757.000000</td>\n      <td>11757.000000</td>\n      <td>11757.000000</td>\n      <td>11757.000000</td>\n      <td>11757.000000</td>\n      <td>11757.000000</td>\n      <td>11757.000000</td>\n      <td>10577.000000</td>\n      <td>11015.000000</td>\n      <td>11757.000000</td>\n      <td>0.0</td>\n      <td>2460.000000</td>\n      <td>11757.000000</td>\n      <td>0.0</td>\n      <td>11757.000000</td>\n      <td>11757.000000</td>\n    </tr>\n    <tr>\n      <th>mean</th>\n      <td>5879.000000</td>\n      <td>35.143319</td>\n      <td>0.061580</td>\n      <td>4.371268</td>\n      <td>0.076040</td>\n      <td>0.093561</td>\n      <td>3.082164</td>\n      <td>-0.878037</td>\n      <td>63.587653</td>\n      <td>0.253806</td>\n      <td>NaN</td>\n      <td>20.410569</td>\n      <td>0.075019</td>\n      <td>NaN</td>\n      <td>3.571489</td>\n      <td>4.371268</td>\n    </tr>\n    <tr>\n      <th>std</th>\n      <td>3394.097892</td>\n      <td>12.022894</td>\n      <td>0.445328</td>\n      <td>2.877598</td>\n      <td>0.449757</td>\n      <td>0.472003</td>\n      <td>4.687410</td>\n      <td>72.889298</td>\n      <td>341.899711</td>\n      <td>0.558324</td>\n      <td>NaN</td>\n      <td>74.354840</td>\n      <td>0.263433</td>\n      <td>NaN</td>\n      <td>2.500479</td>\n      <td>2.877598</td>\n    </tr>\n    <tr>\n      <th>min</th>\n      <td>1.000000</td>\n      <td>18.000000</td>\n      <td>0.000000</td>\n      <td>-1.000000</td>\n      <td>0.000000</td>\n      <td>0.000000</td>\n      <td>0.000000</td>\n      <td>-597.000000</td>\n      <td>0.000000</td>\n      <td>-1.000000</td>\n      <td>NaN</td>\n      <td>-1.000000</td>\n      <td>0.000000</td>\n      <td>NaN</td>\n      <td>-1.000000</td>\n      <td>-1.000000</td>\n    </tr>\n    <tr>\n      <th>25%</th>\n      <td>2940.000000</td>\n      <td>25.000000</td>\n      <td>0.000000</td>\n      <td>2.000000</td>\n      <td>0.000000</td>\n      <td>0.000000</td>\n      <td>0.000000</td>\n      <td>-1.000000</td>\n      <td>1.000000</td>\n      <td>0.000000</td>\n      <td>NaN</td>\n      <td>0.000000</td>\n      <td>0.000000</td>\n      <td>NaN</td>\n      <td>1.000000</td>\n      <td>2.000000</td>\n    </tr>\n    <tr>\n      <th>50%</th>\n      <td>5879.000000</td>\n      <td>32.000000</td>\n      <td>0.000000</td>\n      <td>4.000000</td>\n      <td>0.000000</td>\n      <td>0.000000</td>\n      <td>1.000000</td>\n      <td>-1.000000</td>\n      <td>1.000000</td>\n      <td>0.000000</td>\n      <td>NaN</td>\n      <td>0.000000</td>\n      <td>0.000000</td>\n      <td>NaN</td>\n      <td>3.000000</td>\n      <td>4.000000</td>\n    </tr>\n    <tr>\n      <th>75%</th>\n      <td>8818.000000</td>\n      <td>43.000000</td>\n      <td>0.000000</td>\n      <td>7.000000</td>\n      <td>0.000000</td>\n      <td>0.000000</td>\n      <td>4.000000</td>\n      <td>-1.000000</td>\n      <td>2.000000</td>\n      <td>1.000000</td>\n      <td>NaN</td>\n      <td>1.000000</td>\n      <td>0.000000</td>\n      <td>NaN</td>\n      <td>5.000000</td>\n      <td>7.000000</td>\n    </tr>\n    <tr>\n      <th>max</th>\n      <td>11757.000000</td>\n      <td>96.000000</td>\n      <td>20.000000</td>\n      <td>10.000000</td>\n      <td>13.000000</td>\n      <td>17.000000</td>\n      <td>43.000000</td>\n      <td>1057.000000</td>\n      <td>9485.000000</td>\n      <td>1.000000</td>\n      <td>NaN</td>\n      <td>993.000000</td>\n      <td>1.000000</td>\n      <td>NaN</td>\n      <td>10.000000</td>\n      <td>10.000000</td>\n    </tr>\n  </tbody>\n</table>\n</div>"
     },
     "execution_count": 5,
     "metadata": {},
     "output_type": "execute_result"
    }
   ],
   "source": [
    "compas.describe()"
   ],
   "metadata": {
    "collapsed": false,
    "pycharm": {
     "name": "#%%\n"
    }
   }
  },
  {
   "cell_type": "code",
   "execution_count": null,
   "outputs": [],
   "source": [
    "lst = compas[\"juv-fel-count\"].unique()\n",
    "lst.sort()\n",
    "print(lst)\n",
    "# lst2 = list(range(1, 100))\n",
    "# print([x for x in lst2 if x not in lst])\n",
    "# # without 69, 71\n",
    "\n",
    "\n",
    "lst = compas[\"decile-score\"].unique()\n",
    "lst.sort()\n",
    "print(lst)"
   ],
   "metadata": {
    "collapsed": false,
    "pycharm": {
     "name": "#%%\n"
    }
   }
  },
  {
   "cell_type": "markdown",
   "source": [
    "\n",
    "# make 10K data"
   ],
   "metadata": {
    "collapsed": false,
    "pycharm": {
     "name": "#%% md\n"
    }
   }
  },
  {
   "cell_type": "code",
   "execution_count": 8,
   "outputs": [
    {
     "name": "stdout",
     "output_type": "stream",
     "text": [
      "11334\n",
      "280\n",
      "80\n",
      "30\n",
      "16\n",
      "8\n",
      "2\n",
      "2\n",
      "1\n",
      "2\n",
      "1\n",
      "1\n"
     ]
    }
   ],
   "source": [
    "juv_lst = [ 0,  1,  2,  3,  4,  5,  6,  8,  9, 10, 13, 20]\n",
    "for i in juv_lst:\n",
    "    print(len(compas[compas[\"juv-fel-count\"] == i]))"
   ],
   "metadata": {
    "collapsed": false,
    "pycharm": {
     "name": "#%%\n"
    }
   }
  },
  {
   "cell_type": "code",
   "execution_count": 9,
   "outputs": [
    {
     "name": "stdout",
     "output_type": "stream",
     "text": [
      "15\n",
      "2577\n",
      "1572\n",
      "1259\n",
      "1199\n",
      "1034\n",
      "993\n",
      "900\n",
      "796\n",
      "802\n",
      "610\n"
     ]
    }
   ],
   "source": [
    "dec_lst = [-1,  1,  2,  3,  4,  5,  6,  7,  8,  9, 10]\n",
    "for i in dec_lst:\n",
    "    print(len(compas[compas[\"decile-score\"] == i]))"
   ],
   "metadata": {
    "collapsed": false,
    "pycharm": {
     "name": "#%%\n"
    }
   }
  },
  {
   "cell_type": "code",
   "execution_count": 10,
   "outputs": [],
   "source": [
    "def remove_hours(hours, sam, compas):\n",
    "    print(len(compas))\n",
    "    a1 = compas[compas['decile-score'] == hours].sample(sam)\n",
    "    print(len(a1))\n",
    "    compas = compas[~compas.index.isin(a1.index)]\n",
    "    print(len(compas))\n",
    "    return compas\n"
   ],
   "metadata": {
    "collapsed": false,
    "pycharm": {
     "name": "#%%\n"
    }
   }
  },
  {
   "cell_type": "code",
   "execution_count": 11,
   "outputs": [
    {
     "name": "stdout",
     "output_type": "stream",
     "text": [
      "11757\n",
      "11757\n",
      "1000\n",
      "10757\n",
      "10757\n"
     ]
    }
   ],
   "source": [
    "print(len(compas))\n",
    "compas = remove_hours(1, 1000, compas)\n",
    "print(len(compas))"
   ],
   "metadata": {
    "collapsed": false,
    "pycharm": {
     "name": "#%%\n"
    }
   }
  },
  {
   "cell_type": "code",
   "execution_count": 12,
   "outputs": [
    {
     "name": "stdout",
     "output_type": "stream",
     "text": [
      "10757\n",
      "10757\n",
      "500\n",
      "10257\n",
      "10257\n"
     ]
    }
   ],
   "source": [
    "print(len(compas))\n",
    "compas = remove_hours(2, 500, compas)\n",
    "print(len(compas))"
   ],
   "metadata": {
    "collapsed": false,
    "pycharm": {
     "name": "#%%\n"
    }
   }
  },
  {
   "cell_type": "code",
   "execution_count": 13,
   "outputs": [
    {
     "name": "stdout",
     "output_type": "stream",
     "text": [
      "10257\n",
      "10257\n",
      "257\n",
      "10000\n",
      "10000\n"
     ]
    }
   ],
   "source": [
    "print(len(compas))\n",
    "compas = remove_hours(3, 257, compas)\n",
    "print(len(compas))"
   ],
   "metadata": {
    "collapsed": false,
    "pycharm": {
     "name": "#%%\n"
    }
   }
  },
  {
   "cell_type": "code",
   "execution_count": 14,
   "outputs": [
    {
     "name": "stdout",
     "output_type": "stream",
     "text": [
      "[ 0  1  2  3  4  5  6  8  9 10 13 20]\n",
      "[-1  1  2  3  4  5  6  7  8  9 10]\n"
     ]
    }
   ],
   "source": [
    "lst = compas[\"juv-fel-count\"].unique()\n",
    "lst.sort()\n",
    "print(lst)\n",
    "\n",
    "lst = compas[\"decile-score\"].unique()\n",
    "lst.sort()\n",
    "print(lst)\n"
   ],
   "metadata": {
    "collapsed": false,
    "pycharm": {
     "name": "#%%\n"
    }
   }
  },
  {
   "cell_type": "code",
   "execution_count": 15,
   "outputs": [],
   "source": [
    "compas.to_csv(\"compas_10k.csv\", index=False)"
   ],
   "metadata": {
    "collapsed": false,
    "pycharm": {
     "name": "#%%\n"
    }
   }
  },
  {
   "cell_type": "markdown",
   "source": [
    "# make 5k data"
   ],
   "metadata": {
    "collapsed": false,
    "pycharm": {
     "name": "#%% md\n"
    }
   }
  },
  {
   "cell_type": "code",
   "execution_count": 17,
   "outputs": [
    {
     "name": "stdout",
     "output_type": "stream",
     "text": [
      "15\n",
      "1577\n",
      "1072\n",
      "1002\n",
      "1199\n",
      "1034\n",
      "993\n",
      "900\n",
      "796\n",
      "802\n",
      "610\n"
     ]
    }
   ],
   "source": [
    "dec_lst = [-1,  1,  2,  3,  4,  5,  6,  7,  8,  9, 10]\n",
    "for i in dec_lst:\n",
    "    print(len(compas[compas[\"decile-score\"] == i]))"
   ],
   "metadata": {
    "collapsed": false,
    "pycharm": {
     "name": "#%%\n"
    }
   }
  },
  {
   "cell_type": "code",
   "execution_count": 18,
   "outputs": [
    {
     "name": "stdout",
     "output_type": "stream",
     "text": [
      "10000\n",
      "10000\n",
      "1000\n",
      "9000\n",
      "9000\n"
     ]
    }
   ],
   "source": [
    "print(len(compas))\n",
    "compas = remove_hours(1, 1000, compas)\n",
    "print(len(compas))"
   ],
   "metadata": {
    "collapsed": false,
    "pycharm": {
     "name": "#%%\n"
    }
   }
  },
  {
   "cell_type": "code",
   "execution_count": 19,
   "outputs": [
    {
     "name": "stdout",
     "output_type": "stream",
     "text": [
      "9000\n",
      "9000\n",
      "1000\n",
      "8000\n",
      "8000\n"
     ]
    }
   ],
   "source": [
    "print(len(compas))\n",
    "compas = remove_hours(2, 1000, compas)\n",
    "print(len(compas))"
   ],
   "metadata": {
    "collapsed": false,
    "pycharm": {
     "name": "#%%\n"
    }
   }
  },
  {
   "cell_type": "code",
   "execution_count": 20,
   "outputs": [
    {
     "name": "stdout",
     "output_type": "stream",
     "text": [
      "8000\n",
      "8000\n",
      "1000\n",
      "7000\n",
      "7000\n"
     ]
    }
   ],
   "source": [
    "print(len(compas))\n",
    "compas = remove_hours(3, 1000, compas)\n",
    "print(len(compas))"
   ],
   "metadata": {
    "collapsed": false,
    "pycharm": {
     "name": "#%%\n"
    }
   }
  },
  {
   "cell_type": "code",
   "execution_count": 21,
   "outputs": [
    {
     "name": "stdout",
     "output_type": "stream",
     "text": [
      "7000\n",
      "7000\n",
      "1000\n",
      "6000\n",
      "6000\n"
     ]
    }
   ],
   "source": [
    "print(len(compas))\n",
    "compas = remove_hours(4, 1000, compas)\n",
    "print(len(compas))"
   ],
   "metadata": {
    "collapsed": false,
    "pycharm": {
     "name": "#%%\n"
    }
   }
  },
  {
   "cell_type": "code",
   "execution_count": 22,
   "outputs": [
    {
     "name": "stdout",
     "output_type": "stream",
     "text": [
      "6000\n",
      "6000\n",
      "1000\n",
      "5000\n",
      "5000\n"
     ]
    }
   ],
   "source": [
    "print(len(compas))\n",
    "compas = remove_hours(5, 1000, compas)\n",
    "print(len(compas))"
   ],
   "metadata": {
    "collapsed": false,
    "pycharm": {
     "name": "#%%\n"
    }
   }
  },
  {
   "cell_type": "code",
   "execution_count": 23,
   "outputs": [
    {
     "name": "stdout",
     "output_type": "stream",
     "text": [
      "[ 0  1  2  3  4  5  6  8 10 13 20]\n",
      "[-1  1  2  3  4  5  6  7  8  9 10]\n"
     ]
    }
   ],
   "source": [
    "lst = compas[\"juv-fel-count\"].unique()\n",
    "lst.sort()\n",
    "print(lst)\n",
    "\n",
    "lst = compas[\"decile-score\"].unique()\n",
    "lst.sort()\n",
    "print(lst)\n",
    "\n"
   ],
   "metadata": {
    "collapsed": false,
    "pycharm": {
     "name": "#%%\n"
    }
   }
  },
  {
   "cell_type": "code",
   "execution_count": null,
   "outputs": [],
   "source": [
    "compas.to_csv(\"compas_5k.csv\", index=False)\n"
   ],
   "metadata": {
    "collapsed": false,
    "pycharm": {
     "name": "#%%\n"
    }
   }
  },
  {
   "cell_type": "code",
   "execution_count": 38,
   "outputs": [
    {
     "name": "stdout",
     "output_type": "stream",
     "text": [
      "[ 0  1  2  3  4  5  6  8 10 13 20]\n",
      "[-1  1  2  3  4  5  6  7  8  9 10]\n"
     ]
    }
   ],
   "source": [
    "compas = pd.read_csv(\"compas_5k.csv\", index_col=False)\n",
    "lst = compas[\"juv-fel-count\"].unique()\n",
    "lst.sort()\n",
    "print(lst)\n",
    "\n",
    "lst = compas[\"decile-score\"].unique()\n",
    "lst.sort()\n",
    "print(lst)\n"
   ],
   "metadata": {
    "collapsed": false,
    "pycharm": {
     "name": "#%%\n"
    }
   }
  },
  {
   "cell_type": "code",
   "execution_count": 39,
   "outputs": [
    {
     "name": "stdout",
     "output_type": "stream",
     "text": [
      "4986\n",
      "2196\n",
      "115\n",
      "88\n",
      "92\n"
     ]
    }
   ],
   "source": [
    "compas1 = compas[compas[\"juv-fel-count\"] <= 4] # size = 20\n",
    "print(len(compas1))\n",
    "compas2 = compas1[compas1[\"decile-score\"] >= 8] # size = 5\n",
    "print(len(compas2))\n",
    "compas3 = compas2[compas2[\"c-charge-degree\"] == \"O\"]  # size = 30\n",
    "print(len(compas3))\n",
    "\n",
    "AA = compas3[compas3[\"race\"] == \"African-American\"]\n",
    "print(len(AA))\n",
    "female = compas3[compas3[\"sex\"]==\"Male\"]\n",
    "print(len(female))\n"
   ],
   "metadata": {
    "collapsed": false,
    "pycharm": {
     "name": "#%%\n"
    }
   }
  },
  {
   "cell_type": "markdown",
   "source": [
    "# make 2.5 k data"
   ],
   "metadata": {
    "collapsed": false,
    "pycharm": {
     "name": "#%% md\n"
    }
   }
  },
  {
   "cell_type": "code",
   "execution_count": 25,
   "outputs": [
    {
     "name": "stdout",
     "output_type": "stream",
     "text": [
      "15\n",
      "577\n",
      "72\n",
      "2\n",
      "199\n",
      "34\n",
      "993\n",
      "900\n",
      "796\n",
      "802\n",
      "610\n"
     ]
    }
   ],
   "source": [
    "dec_lst = [-1,  1,  2,  3,  4,  5,  6,  7,  8,  9, 10]\n",
    "for i in dec_lst:\n",
    "    print(len(compas[compas[\"decile-score\"] == i]))"
   ],
   "metadata": {
    "collapsed": false,
    "pycharm": {
     "name": "#%%\n"
    }
   }
  },
  {
   "cell_type": "code",
   "execution_count": 26,
   "outputs": [
    {
     "data": {
      "text/plain": "3108"
     },
     "execution_count": 26,
     "metadata": {},
     "output_type": "execute_result"
    }
   ],
   "source": [
    "compas = compas[compas['decile-score'] >= 7]\n",
    "len(compas)"
   ],
   "metadata": {
    "collapsed": false,
    "pycharm": {
     "name": "#%%\n"
    }
   }
  },
  {
   "cell_type": "code",
   "execution_count": 27,
   "outputs": [
    {
     "name": "stdout",
     "output_type": "stream",
     "text": [
      "3108\n",
      "3108\n",
      "608\n",
      "2500\n",
      "2500\n"
     ]
    }
   ],
   "source": [
    "print(len(compas))\n",
    "compas = remove_hours(7, 608, compas)\n",
    "print(len(compas))"
   ],
   "metadata": {
    "collapsed": false,
    "pycharm": {
     "name": "#%%\n"
    }
   }
  },
  {
   "cell_type": "code",
   "execution_count": 28,
   "outputs": [],
   "source": [
    "compas.to_csv(\"compas_2p5k.csv\")"
   ],
   "metadata": {
    "collapsed": false,
    "pycharm": {
     "name": "#%%\n"
    }
   }
  },
  {
   "cell_type": "markdown",
   "source": [
    "# make 2k data"
   ],
   "metadata": {
    "collapsed": false,
    "pycharm": {
     "name": "#%% md\n"
    }
   }
  },
  {
   "cell_type": "code",
   "execution_count": 41,
   "outputs": [
    {
     "name": "stdout",
     "output_type": "stream",
     "text": [
      "15\n",
      "577\n",
      "72\n",
      "2\n",
      "199\n",
      "34\n",
      "993\n",
      "900\n",
      "796\n",
      "802\n",
      "610\n"
     ]
    }
   ],
   "source": [
    "compas_2p5k = pd.read_csv(\"compas_2p5k.csv\", index_col=False)\n",
    "\n",
    "\n",
    "dec_lst = [-1,  1,  2,  3,  4,  5,  6,  7,  8,  9, 10]\n",
    "for i in dec_lst:\n",
    "    print(len(compas[compas[\"decile-score\"] == i]))"
   ],
   "metadata": {
    "collapsed": false,
    "pycharm": {
     "name": "#%%\n"
    }
   }
  },
  {
   "cell_type": "code",
   "execution_count": 42,
   "outputs": [
    {
     "name": "stdout",
     "output_type": "stream",
     "text": [
      "5000\n",
      "5000\n",
      "500\n",
      "4500\n",
      "4500\n"
     ]
    }
   ],
   "source": [
    "print(len(compas))\n",
    "compas = remove_hours(9, 500, compas)\n",
    "print(len(compas))"
   ],
   "metadata": {
    "collapsed": false,
    "pycharm": {
     "name": "#%%\n"
    }
   }
  },
  {
   "cell_type": "code",
   "execution_count": 43,
   "outputs": [],
   "source": [
    "compas.to_csv(\"compas_2k.csv\", index=False)\n"
   ],
   "metadata": {
    "collapsed": false,
    "pycharm": {
     "name": "#%%\n"
    }
   }
  },
  {
   "cell_type": "code",
   "execution_count": null,
   "outputs": [],
   "source": [
    "\n",
    "compas = pd.read_csv(\"compas_2k.csv\", index_col=False)\n",
    "\n",
    "lst = compas[\"juv-fel-count\"].unique()\n",
    "lst.sort()\n",
    "print(lst)\n",
    "\n",
    "lst = compas[\"decile-score\"].unique()\n",
    "lst.sort()\n",
    "print(lst)\n",
    "\n",
    "compas1 = compas[compas[\"juv-fel-count\"] <= 4] # size = 20\n",
    "print(len(compas1))\n",
    "compas2 = compas1[compas1[\"decile-score\"] >= 8] # size = 5\n",
    "print(len(compas2))\n",
    "compas3 = compas2[compas2[\"c-charge-degree\"] == \"O\"]  # size = 30\n",
    "print(len(compas3))\n",
    "\n",
    "AA = compas3[compas3[\"race\"] == \"African-American\"]\n",
    "print(len(AA))\n",
    "female = compas3[compas3[\"sex\"]==\"Male\"]\n",
    "print(len(female))\n",
    "\n"
   ],
   "metadata": {
    "collapsed": false,
    "pycharm": {
     "name": "#%%\n"
    }
   }
  },
  {
   "cell_type": "markdown",
   "source": [
    "# make 1k data"
   ],
   "metadata": {
    "collapsed": false,
    "pycharm": {
     "name": "#%% md\n"
    }
   }
  },
  {
   "cell_type": "code",
   "execution_count": 32,
   "outputs": [
    {
     "name": "stdout",
     "output_type": "stream",
     "text": [
      "0\n",
      "0\n",
      "0\n",
      "0\n",
      "0\n",
      "0\n",
      "0\n",
      "292\n",
      "796\n",
      "302\n",
      "610\n"
     ]
    }
   ],
   "source": [
    "dec_lst = [-1,  1,  2,  3,  4,  5,  6,  7,  8,  9, 10]\n",
    "for i in dec_lst:\n",
    "    print(len(compas[compas[\"decile-score\"] == i]))"
   ],
   "metadata": {
    "collapsed": false,
    "pycharm": {
     "name": "#%%\n"
    }
   }
  },
  {
   "cell_type": "code",
   "execution_count": 33,
   "outputs": [
    {
     "name": "stdout",
     "output_type": "stream",
     "text": [
      "2000\n",
      "2000\n",
      "500\n",
      "1500\n",
      "1500\n"
     ]
    }
   ],
   "source": [
    "print(len(compas))\n",
    "compas = remove_hours(8, 500, compas)\n",
    "print(len(compas))"
   ],
   "metadata": {
    "collapsed": false,
    "pycharm": {
     "name": "#%%\n"
    }
   }
  },
  {
   "cell_type": "code",
   "execution_count": 34,
   "outputs": [
    {
     "name": "stdout",
     "output_type": "stream",
     "text": [
      "1500\n",
      "1500\n",
      "400\n",
      "1100\n",
      "1100\n"
     ]
    }
   ],
   "source": [
    "print(len(compas))\n",
    "compas = remove_hours(10, 400, compas)\n",
    "print(len(compas))"
   ],
   "metadata": {
    "collapsed": false,
    "pycharm": {
     "name": "#%%\n"
    }
   }
  },
  {
   "cell_type": "code",
   "execution_count": 35,
   "outputs": [
    {
     "name": "stdout",
     "output_type": "stream",
     "text": [
      "1100\n",
      "1100\n",
      "100\n",
      "1000\n",
      "1000\n"
     ]
    }
   ],
   "source": [
    "print(len(compas))\n",
    "compas = remove_hours(7, 100, compas)\n",
    "print(len(compas))"
   ],
   "metadata": {
    "collapsed": false,
    "pycharm": {
     "name": "#%%\n"
    }
   }
  },
  {
   "cell_type": "code",
   "execution_count": 36,
   "outputs": [],
   "source": [
    "compas.to_csv(\"compas_1k.csv\", index=False)"
   ],
   "metadata": {
    "collapsed": false,
    "pycharm": {
     "name": "#%%\n"
    }
   }
  },
  {
   "cell_type": "code",
   "execution_count": null,
   "outputs": [],
   "source": [],
   "metadata": {
    "collapsed": false,
    "pycharm": {
     "name": "#%%\n"
    }
   }
  }
 ],
 "metadata": {
  "kernelspec": {
   "display_name": "Python 3",
   "language": "python",
   "name": "python3"
  },
  "language_info": {
   "codemirror_mode": {
    "name": "ipython",
    "version": 2
   },
   "file_extension": ".py",
   "mimetype": "text/x-python",
   "name": "python",
   "nbconvert_exporter": "python",
   "pygments_lexer": "ipython2",
   "version": "2.7.6"
  }
 },
 "nbformat": 4,
 "nbformat_minor": 0
}