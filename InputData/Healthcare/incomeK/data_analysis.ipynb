{
 "cells": [
  {
   "cell_type": "code",
   "execution_count": null,
   "outputs": [],
   "source": [
    "import numpy as np\n",
    "import pandas as pd\n",
    "import csv\n",
    "import json\n"
   ],
   "metadata": {
    "collapsed": false,
    "pycharm": {
     "name": "#%%\n"
    }
   }
  },
  {
   "cell_type": "code",
   "execution_count": 18,
   "outputs": [
    {
     "name": "stdout",
     "output_type": "stream",
     "text": [
      "[1 0 3 2 4 5]\n",
      "[ 2  1 10  5  8  3  9  6  7  0  4]\n"
     ]
    }
   ],
   "source": [
    "data_file = r\"before_selection_incomeK.csv\"\n",
    "query_file_prefix = r\"query1.json\"\n",
    "\n",
    "data = pd.read_csv(data_file, index_col=False)\n",
    "\n",
    "print(data['num-children'].unique())\n",
    "print(data['complications'].unique())\n",
    "\n"
   ],
   "metadata": {
    "collapsed": false,
    "pycharm": {
     "name": "#%%\n"
    }
   }
  },
  {
   "cell_type": "markdown",
   "source": [
    "# q1"
   ],
   "metadata": {
    "collapsed": false,
    "pycharm": {
     "name": "#%% md\n"
    }
   }
  },
  {
   "cell_type": "code",
   "execution_count": 9,
   "outputs": [
    {
     "name": "stdout",
     "output_type": "stream",
     "text": [
      "887\n",
      "578\n",
      "274\n",
      "85\n",
      "13\n",
      "race\n",
      "race1    28\n",
      "race2    33\n",
      "race3    13\n",
      "dtype: int64\n",
      "age-group\n",
      "group1    27\n",
      "group2    28\n",
      "group3    30\n",
      "dtype: int64\n",
      "race   age-group\n",
      "race1  group1        7\n",
      "       group2        9\n",
      "       group3       12\n",
      "race2  group1       10\n",
      "       group2       12\n",
      "       group3       11\n",
      "race3  group1        5\n",
      "       group2        4\n",
      "       group3        4\n",
      "dtype: int64\n"
     ]
    }
   ],
   "source": [
    "data_file = r\"before_selection_incomeK.csv\"\n",
    "query_file_prefix = r\"query1.json\"\n",
    "\n",
    "data = pd.read_csv(data_file, index_col=False)\n",
    "\n",
    "print(len(data))\n",
    "data1 = data[data['income'] >= 100]\n",
    "print(len(data1))\n",
    "data2 = data1[data1['num-children'] >= 3]\n",
    "print(len(data2))\n",
    "data3 = data2[(data2[\"county\"] == \"county2\") | (data2[\"county\"] ==\"county3\")]\n",
    "print(len(data3))\n",
    "\n",
    "\n",
    "data3_race = data3[data3['race'] == 'race3']\n",
    "print(len(data3_race))\n",
    "\n",
    "print(data3.groupby(['race']).size())\n",
    "print(data3.groupby(['age-group']).size())\n",
    "print(data3.groupby(['race', 'age-group']).size())"
   ],
   "metadata": {
    "collapsed": false,
    "pycharm": {
     "name": "#%%\n"
    }
   }
  },
  {
   "cell_type": "markdown",
   "source": [
    "# q2"
   ],
   "metadata": {
    "collapsed": false,
    "pycharm": {
     "name": "#%% md\n"
    }
   }
  },
  {
   "cell_type": "code",
   "execution_count": 20,
   "outputs": [
    {
     "name": "stdout",
     "output_type": "stream",
     "text": [
      "887\n",
      "414\n",
      "356\n",
      "129\n",
      "89\n",
      "13\n",
      "race\n",
      "race1    36\n",
      "race2    33\n",
      "race3    13\n",
      "dtype: int64\n",
      "age-group\n",
      "group1    30\n",
      "group2    32\n",
      "group3    27\n",
      "dtype: int64\n",
      "race   age-group\n",
      "race1  group1       13\n",
      "       group2       14\n",
      "       group3        9\n",
      "race2  group1       10\n",
      "       group2       11\n",
      "       group3       12\n",
      "race3  group1        3\n",
      "       group2        6\n",
      "       group3        4\n",
      "dtype: int64\n"
     ]
    }
   ],
   "source": [
    "data_file = r\"before_selection_incomeK.csv\"\n",
    "query_file_prefix = r\"query2.json\"\n",
    "\n",
    "data = pd.read_csv(data_file, index_col=False)\n",
    "\n",
    "print(len(data))\n",
    "data1 = data[data['income'] >= 150]\n",
    "print(len(data1))\n",
    "data2 = data1[data1['num-children'] <= 4]\n",
    "print(len(data2))\n",
    "data3 = data2[(data2[\"county\"] == \"county2\") | (data2[\"county\"] ==\"county4\")]\n",
    "print(len(data3))\n",
    "data4 = data3[data3['complications'] <= 8]\n",
    "print(len(data4))\n",
    "\n",
    "data4_race = data4[data4['race'] == 'race3']\n",
    "print(len(data4_race))\n",
    "\n",
    "print(data4.groupby(['race']).size())\n",
    "print(data4.groupby(['age-group']).size())\n",
    "print(data4.groupby(['race', 'age-group']).size())"
   ],
   "metadata": {
    "collapsed": false,
    "pycharm": {
     "name": "#%%\n"
    }
   }
  },
  {
   "cell_type": "code",
   "execution_count": null,
   "outputs": [],
   "source": [],
   "metadata": {
    "collapsed": false,
    "pycharm": {
     "name": "#%%\n"
    }
   }
  }
 ],
 "metadata": {
  "kernelspec": {
   "display_name": "Python 3",
   "language": "python",
   "name": "python3"
  },
  "language_info": {
   "codemirror_mode": {
    "name": "ipython",
    "version": 2
   },
   "file_extension": ".py",
   "mimetype": "text/x-python",
   "name": "python",
   "nbconvert_exporter": "python",
   "pygments_lexer": "ipython2",
   "version": "2.7.6"
  }
 },
 "nbformat": 4,
 "nbformat_minor": 0
}